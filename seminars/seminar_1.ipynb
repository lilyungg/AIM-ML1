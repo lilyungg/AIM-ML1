{
  "cells": [
    {
      "cell_type": "markdown",
      "metadata": {
        "id": "aZWoeMuTEUNV"
      },
      "source": [
        "# &laquo;Машинное обучение&raquo;, AI Masters\n",
        "\n",
        "\n",
        "**Автор курса**: Александр Геннадьевич Дьяконов\n",
        "\n",
        "**Семинаристы**: Илья Карчмит, Александр Краснов, Арсений Зинкевич\n",
        "\n",
        "---\n",
        "\n",
        "### Семинар 1: Библиотеки для анализа данных. NumPy, SciPy."
      ]
    },
    {
      "cell_type": "markdown",
      "source": [
        "## Что будет в курсе?"
      ],
      "metadata": {
        "id": "E1_H3XKuGU6C"
      }
    },
    {
      "cell_type": "markdown",
      "source": [
        "### Виды активностей\n",
        "\n",
        "* Лекции\n",
        "    * Важный теоретический блок, не пропускайте!\n",
        "* Семинары\n",
        "    * Практические примеры того, как использовать ваши знания.\n",
        "    * _Иногда_: разборы домашних работ и рассказы про лучшие решения в соревнованиях (см. ниже)\n",
        "* Домашние задания\n",
        "    * Формат: практическое задание или соревнование (a.k.a. контест)\n",
        "    * Практические задания - решение задачек\n",
        "    * Соревнования - создание ML-модели и ее тестирование на _скрытых_ данных."
      ],
      "metadata": {
        "id": "kuHIJYswjhwN"
      }
    },
    {
      "cell_type": "markdown",
      "source": [
        "### Правила курса (кратко)\n",
        "\n",
        "#### Оценки\n",
        "\n",
        "* За курс вы будете получать баллы по балльно-рейтинговой системе, разбалловку по которой мы пришлем вам немножко позднее.\n",
        "* Ориентировочно, \"зачет\" по курсу можно получить, набрав ~60% от итогового балла, а оценку 10, набрав 90%+\n",
        "* Оценки будут ставиться после проверки домашних заданий. Оценки за лекции и семинары не ставятся, но так вы можете получить \"бонусные\" баллы - об этом будет сказано отдельно.\n",
        "\n",
        "#### Домашние задания\n",
        "\n",
        "* В Google Classroom вы должны называться вашими именем и фамилией, чтобы вас можно было однозначно идентифицировать. Если вы так не называетесь, поменяйте это в настройках вашего аккаунта Google.\n",
        "* Сдавайте только то, что нужно в задании. В большинстве д/з вам будет дан Jupyter Notebook с пропущенными ячейками, в таком случае, сдавайте только заполненный вами файл `.ipynb`.\n",
        "* **Не сдавайте архивы, пожалуйста** (только если в задании не сказано это напрямую). В частности, не нужно сдавать доп. файлы с вашими функциями, прикреплять данные, которые были прикреплены в д/з и т.п.\n",
        "\n",
        "**Дедлайны**\n",
        "\n",
        "* Дедлайны жесткие, при сдаче после дедлайна (без уважительных причин) работа будет оценена в 0 баллов.\n",
        "    * Об уважительных причинах нужно **заранее** сообщать семинаристу, который проверяет задание. Сообщайте о них хотя бы за 2 дня! (до 23:59 в субботу при дедлайне в понедельник)\n",
        "* Дедлайн: обычно ставится в пн в 21:00. Рассчитываем, что вы ответственно сделаете все на выходных, а в пн спокойно **дооформите** работу и сдадите.\n",
        "* Если вы не успеваете коллективно, можно попробовать устроить бунд (так же **заранее**!). Для этого пишите сообщения в чат и собирайте реакции. Если будет достаточно желающих подвинуть дедлайн - мы сможем это сделать, только не в конце семестра.\n",
        "* Если вы просрочили дедлайн на 5 минут - не беда. Если просрочили на 3 часа - уже беда, за такое будем ставить нули. Обобщайте на свой страх и риск...\n",
        "\n",
        "**Обратная связь**\n",
        "\n",
        "* Индивидуальный фидбек по работе дается по вдохновению проверяющего. В свою очередь, это сильно мотивируется качеством вашей работы - за хорошую работу будет более качественный разбор проблем.\n",
        "* После проверки всех домашек мы обычно делимся частыми ошибками в общем чате.\n",
        "* Если вам все равно интересно узнать, за что вам недоначислили баллы, обращайтесь в личку к проверяющему.\n",
        "\n",
        "**Формат связи**\n",
        "\n",
        "* По всем вопросам можно писать в личные сообщения семинаристам (Илья, Саша, Арсений), но...\n",
        "* Большинство вопросов касаются домашек! Поэтому те вопросы, ответы на которые могут быть интересны остальным, обязательно задавайте в чат, насколько бы \"тупыми\" они вам не казались и насколько бы сильно вы не стеснялись.\n",
        "\n",
        "**Правила выполнения домашек**\n",
        "\n",
        "* Иерархия инструкций\n",
        "    1. Инструкция в Jupyter Notebook с домашкой\n",
        "    2. Инструкция в Google Classroom / чате / Kaggle\n",
        "\n",
        "**О проверке**\n",
        "\n",
        "* Запуск кода и обучение моделей могут быть долгими. По этой причине мы не запускаем ваш код, а смотрим то, что видно из коробки при открытии приложенного ноутбука в Google Colab. Если какой-то вывод не виден -- его для нас нет.\n",
        "* Периодически вы будете встречаться с Plotly-графиками (в частности, их использует библиотека Optuna). Такие графики по умолчанию **не видны** в Google Colab. Чтобы их было видно, нужно сохранить их себе на диск (в нужном масштабе) и вывести в нужное место вот таким образом:\n",
        "\n",
        "```python\n",
        "from IPython.display import Image\n",
        "Image('plotly_image.png')\n",
        "```"
      ],
      "metadata": {
        "id": "dtOay_QfjjWH"
      }
    },
    {
      "cell_type": "markdown",
      "source": [
        "\n",
        "#### Оформление работ\n",
        "\n",
        "В каждой домашке (кроме первой) можно будет получить дополнительные баллы за оформление работы. Нормальные работы будут получать +0, **можно получить от -5 до +5 за \"особые старания\"**: если вы воюете в правильную сторону - бонус, а если не туда, то штраф.\n",
        "\n",
        "**Хорошие работы**\n",
        "\n",
        "* Дают возможность получить до +5 баллов за оформление\n",
        "* Повышают шанс более вдумчивой проверки преподавателем\n",
        "* Повышают шанс получения продуктивного фидбека\n",
        "\n",
        "**Плохие работы**\n",
        "\n",
        "* Дают риск получить до -5 баллов штрафа за оформление\n",
        "* Повышают шансы на стохастическую проверку не в вашу пользу\n",
        "* Вряд ли дадут мотивацию проверяющему на продуктивный разбор ваших ошибок - старания не должны быть односторонними!\n",
        "\n",
        "**Хорошая работа - это:**\n",
        "\n",
        "* _Хорошая работа_\n",
        "* Вынос повторяющегося кода в отдельные функции в том же ноутбуке/отдельных .py-файлах\n",
        "* Старательное избегание всего повторяющегося, если это возможно и целесообразно\n",
        "* Написанный код говорит сам за себя. Стороннему человеку понятно, что происходит. Если непонятно, то есть минимальные комментарии к написанному.\n",
        "* Сдается на проверку ровно то, что спрашивается в задании - ни больше, ни меньше (здравый минимализм)\n",
        "* Экономятся ячейки Jupyter Notebook (не нужно писать по строчке в ячейке; думайте о ячейке как о смысловом блоке кода)\n",
        "* Результатом работы ячейки (помимо всего прочего) является вывод какой-то вспомогательной информации/визуализации (например, на тему того, что происходит в ячейке)\n",
        "* Графики имеют адекватный размер, размер шрифтов, необходимые подписи, понятен смысл графика и обозначения на нем и т.п.\n",
        "\n",
        "**Плохая работа - это:**\n",
        "\n",
        "* _Плохая работа_\n",
        "* `print(мусор, дебаг-инфа, ...)` - все, что не нужно проверяющим\n",
        "* Сдача ноутбуков с не выполненными из-за исключений ячейками\n",
        "* Повторяющийся код\n",
        "* Непонятные и незакомментированные куски кода\n",
        "* Расход ячеек впустую (например, по строчке в ячейке без внятной причины)\n",
        "* Плохие графики: непонятный смысл графика, несообразный размер (мелкий/огромный график), неясные размеры шрифтов, отсутствие легенды на графиках, где она нужна и т.п.\n",
        "\n",
        "**TL;DR:**<br/>\n",
        "Хорошая работа - это про адекватность и компактность, а не про то, чтобы вставлять в текст emoji, писать огромные прелюдии к каждому блоку д/з и т.п.\n",
        "\n"
      ],
      "metadata": {
        "id": "XBuRsx2Ttukc"
      }
    },
    {
      "cell_type": "markdown",
      "source": [
        "## Сегодня будет:\n",
        "\n",
        "Знакомство с некоторыми библиотеками, которые широко используются в анализе данных.\n",
        "\n",
        "В частности, в ноутбуке рассматриваются следующие темы:\n",
        "\n",
        "* Проблемы стандартных питоновских структур данных при матричных операциях;\n",
        "* Базовые операции при работе с многомерными массивами в библиотеке NumPy;\n",
        "* Сложная индексация массивов и broadcasting."
      ],
      "metadata": {
        "id": "dz3vb66oFxkZ"
      }
    },
    {
      "cell_type": "markdown",
      "source": [
        "![numpy-operations.png](https://data.bioml.ru/htdocs/courses/python/datasci/numpy/img/numpy-operations.png)"
      ],
      "metadata": {
        "id": "mjzfXiYMu-u0"
      }
    },
    {
      "cell_type": "markdown",
      "metadata": {
        "id": "5hdsKmuZEUNV"
      },
      "source": [
        "## Массивы в Python"
      ]
    },
    {
      "cell_type": "code",
      "execution_count": null,
      "metadata": {
        "id": "If5cyCwmEUNW"
      },
      "outputs": [],
      "source": [
        "a = [7, 2, 9, 10]"
      ]
    },
    {
      "cell_type": "code",
      "execution_count": null,
      "metadata": {
        "id": "4cOz21cdEUNW",
        "colab": {
          "base_uri": "https://localhost:8080/"
        },
        "outputId": "08e4ce01-d7f1-4f24-f69e-64471653dfde"
      },
      "outputs": [
        {
          "output_type": "execute_result",
          "data": {
            "text/plain": [
              "7"
            ]
          },
          "metadata": {},
          "execution_count": 2
        }
      ],
      "source": [
        "a[0]"
      ]
    },
    {
      "cell_type": "code",
      "execution_count": null,
      "metadata": {
        "id": "KCsr1ToOEUNW",
        "colab": {
          "base_uri": "https://localhost:8080/"
        },
        "outputId": "2946c6ad-4420-465f-df87-2b40eee8d93e"
      },
      "outputs": [
        {
          "output_type": "execute_result",
          "data": {
            "text/plain": [
              "[7, 2, 9]"
            ]
          },
          "metadata": {},
          "execution_count": 3
        }
      ],
      "source": [
        "a[0:3]"
      ]
    },
    {
      "cell_type": "code",
      "execution_count": null,
      "metadata": {
        "id": "kc5TzIiNEUNX"
      },
      "outputs": [],
      "source": [
        "a = [0, 1.1, 'ground control...']"
      ]
    },
    {
      "cell_type": "code",
      "source": [
        "b = [30, 1e-6, 'check...']"
      ],
      "metadata": {
        "id": "Z7EZn4HWIwKj"
      },
      "execution_count": null,
      "outputs": []
    },
    {
      "cell_type": "markdown",
      "metadata": {
        "id": "Kb965lVBEUNX"
      },
      "source": [
        "Не совсем массив :("
      ]
    },
    {
      "cell_type": "markdown",
      "source": [
        "![list-array.png](https://data.bioml.ru/htdocs/courses/python/datasci/numpy/img/list-array_list_only.png)"
      ],
      "metadata": {
        "id": "2R8gvWqFu0lb"
      }
    },
    {
      "cell_type": "code",
      "source": [
        "[i + j for i, j in zip(a, b)]"
      ],
      "metadata": {
        "colab": {
          "base_uri": "https://localhost:8080/"
        },
        "id": "p-_AKOlAI3tj",
        "outputId": "e5976160-0d90-45c2-bbe3-ae5bfeadab29"
      },
      "execution_count": null,
      "outputs": [
        {
          "output_type": "execute_result",
          "data": {
            "text/plain": [
              "[30, 1.100001, 'ground control...check...']"
            ]
          },
          "metadata": {},
          "execution_count": 14
        }
      ]
    },
    {
      "cell_type": "markdown",
      "metadata": {
        "id": "jmJNMqFKEUNX"
      },
      "source": [
        "## Многомерные массивы в Python\n",
        "\n",
        "Здесь и далее будем считать, что понятия \"многомерные массивы\" и \"матрицы\" эквивалентны."
      ]
    },
    {
      "cell_type": "markdown",
      "metadata": {
        "id": "so9kuokMEUNX"
      },
      "source": [
        "Многомерные массивы в Python можно рассмаривать, например, как списки списков:"
      ]
    },
    {
      "cell_type": "code",
      "execution_count": null,
      "metadata": {
        "id": "MVvKSxyeEUNY",
        "colab": {
          "base_uri": "https://localhost:8080/"
        },
        "outputId": "2c613e3b-10e1-46c1-f316-b91fd4c544b0"
      },
      "outputs": [
        {
          "output_type": "execute_result",
          "data": {
            "text/plain": [
              "[[0, 1, 2, 3, 4], [5, 6, 7, 8, 9], [10, 11, 12, 13, 14], [15, 16, 17, 18, 19]]"
            ]
          },
          "metadata": {},
          "execution_count": 6
        }
      ],
      "source": [
        "a = [[ 0,  1,  2,  3,  4],\n",
        "     [ 5,  6,  7,  8,  9],\n",
        "     [10, 11, 12, 13, 14],\n",
        "     [15, 16, 17, 18, 19]]\n",
        "a"
      ]
    },
    {
      "cell_type": "code",
      "execution_count": null,
      "metadata": {
        "id": "IWYqVy4UEUNY",
        "colab": {
          "base_uri": "https://localhost:8080/"
        },
        "outputId": "fbe2d36c-0b67-42c0-f012-5133d56a0730"
      },
      "outputs": [
        {
          "output_type": "execute_result",
          "data": {
            "text/plain": [
              "2"
            ]
          },
          "metadata": {},
          "execution_count": 7
        }
      ],
      "source": [
        "a[0][2]"
      ]
    },
    {
      "cell_type": "markdown",
      "metadata": {
        "id": "r-BB5BYKEUNY"
      },
      "source": [
        "Одна из проблем списков — отсутствие поэлементных и матричных операций."
      ]
    },
    {
      "cell_type": "markdown",
      "metadata": {
        "id": "QgJcjGEaEUNY"
      },
      "source": [
        "<font color='red'>**Задача 1.**</font> Напишите функцию `get_column(a, i)`, которая получает столбец матрицы `a` с индексом `i`. <font color='red'>**Не используйте библиотеку NumPy**!</font>"
      ]
    },
    {
      "cell_type": "code",
      "execution_count": null,
      "metadata": {
        "id": "I96vKn13EUNY"
      },
      "outputs": [],
      "source": [
        "# your code here\n",
        "\n",
        "def get_column(a, i):\n",
        "    return [row_j[i] for row_j in a]"
      ]
    },
    {
      "cell_type": "code",
      "execution_count": null,
      "metadata": {
        "id": "EGH7hFNnEUNY"
      },
      "outputs": [],
      "source": [
        "assert get_column(a, 0) == [0, 5, 10, 15]\n",
        "assert get_column(a, 2) == [2, 7, 12, 17]\n",
        "assert get_column(a, -1) == [4, 9, 14, 19]\n",
        "\n",
        "b = [[ 1,  3],\n",
        "     [ 6,  8],\n",
        "     [11, 13],\n",
        "     [16, 18]]\n",
        "\n",
        "assert get_column(a, slice(1, None, 2)) == b"
      ]
    },
    {
      "cell_type": "markdown",
      "metadata": {
        "id": "zcuUAdIZEUNY"
      },
      "source": [
        "<font color='red'>**Задача 2.**</font> Напишите функцию `transpose(a)`, которая получает транспонирует матрицу `a`. <font color='red'>**Не используйте библиотеку NumPy**!</font>"
      ]
    },
    {
      "cell_type": "code",
      "execution_count": null,
      "metadata": {
        "id": "cTU4B2W7EUNY"
      },
      "outputs": [],
      "source": [
        "# your code here\n",
        "\n",
        "def transpose(a):\n",
        "    return list([get_column(a, i) for i in range(len(a[0]))])\n"
      ]
    },
    {
      "cell_type": "code",
      "execution_count": null,
      "metadata": {
        "id": "C5KkQkN9EUNZ"
      },
      "outputs": [],
      "source": [
        "b = [[0, 5, 10, 15],\n",
        "     [1, 6, 11, 16],\n",
        "     [2, 7, 12, 17],\n",
        "     [3, 8, 13, 18],\n",
        "     [4, 9, 14, 19]]\n",
        "\n",
        "assert transpose(a) == b"
      ]
    },
    {
      "cell_type": "markdown",
      "metadata": {
        "id": "Aij_wTCmEUNZ"
      },
      "source": [
        "Создадим матрицу `A` размером $500 \\times 10$, в которой ij-ый элемент будет равен 10 * i + j."
      ]
    },
    {
      "cell_type": "code",
      "execution_count": null,
      "metadata": {
        "id": "X1NpYvs1EUNZ",
        "colab": {
          "base_uri": "https://localhost:8080/"
        },
        "outputId": "4c7dbe1d-7cac-44a4-b6e8-dd60416afcd1"
      },
      "outputs": [
        {
          "output_type": "execute_result",
          "data": {
            "text/plain": [
              "[[0, 1, 2, 3, 4, 5, 6, 7, 8, 9],\n",
              " [10, 11, 12, 13, 14, 15, 16, 17, 18, 19],\n",
              " [20, 21, 22, 23, 24, 25, 26, 27, 28, 29],\n",
              " [30, 31, 32, 33, 34, 35, 36, 37, 38, 39],\n",
              " [40, 41, 42, 43, 44, 45, 46, 47, 48, 49]]"
            ]
          },
          "metadata": {},
          "execution_count": 12
        }
      ],
      "source": [
        "A = [[10 * i + j for j in range(10)] for i in range(500)]\n",
        "\n",
        "A[:5]"
      ]
    },
    {
      "cell_type": "markdown",
      "metadata": {
        "id": "pFEcGOAtEUNZ"
      },
      "source": [
        "Умножим матрицу `A` поэлементно на 2."
      ]
    },
    {
      "cell_type": "code",
      "execution_count": null,
      "metadata": {
        "id": "cJG8hTY-EUNZ",
        "colab": {
          "base_uri": "https://localhost:8080/"
        },
        "outputId": "04a4a7a6-02ef-45bf-b11b-964eab86a372"
      },
      "outputs": [
        {
          "output_type": "stream",
          "name": "stdout",
          "text": [
            "301 µs ± 8.16 µs per loop (mean ± std. dev. of 7 runs, 1000 loops each)\n"
          ]
        }
      ],
      "source": [
        "%%timeit\n",
        "\n",
        "# Вариант 1: через метод list.append\n",
        "\n",
        "A_new = []\n",
        "\n",
        "for x_row in A:\n",
        "    x_row_new = []\n",
        "    for xy_elem in x_row:\n",
        "        x_row_new.append(2 * xy_elem)\n",
        "    A_new.append(x_row_new)\n",
        "\n",
        "A_new"
      ]
    },
    {
      "cell_type": "code",
      "execution_count": null,
      "metadata": {
        "id": "DYkuMYaoEUNZ",
        "colab": {
          "base_uri": "https://localhost:8080/"
        },
        "outputId": "08b065a3-39eb-4c8c-8c71-533e01cd7f57"
      },
      "outputs": [
        {
          "output_type": "stream",
          "name": "stdout",
          "text": [
            "450 µs ± 119 µs per loop (mean ± std. dev. of 7 runs, 1000 loops each)\n"
          ]
        }
      ],
      "source": [
        "%%timeit\n",
        "\n",
        "# Вариант 2: через через генераторы списоков (list comprehension)\n",
        "\n",
        "A_new = [[2 * e for e in row] for row in A]\n",
        "A_new"
      ]
    },
    {
      "cell_type": "markdown",
      "metadata": {
        "id": "_yoYa3-vEUNZ"
      },
      "source": [
        "Попробуем сделать то же самое, но с использованием бибилиотеки `numpy`."
      ]
    },
    {
      "cell_type": "code",
      "execution_count": null,
      "metadata": {
        "id": "WIVu5WJ6EUNZ"
      },
      "outputs": [],
      "source": [
        "# НИКОГДА НЕ ДЕЛАЙТЕ ТАК\n",
        "# from numpy import *\n",
        "\n",
        "# ВСЕГДА ДЕЛАЙТЕ ТАК\n",
        "import numpy as np"
      ]
    },
    {
      "cell_type": "code",
      "execution_count": null,
      "metadata": {
        "id": "zEE5PrTkEUNZ"
      },
      "outputs": [],
      "source": [
        "# выделяем память под матрицу (malloc + memset)\n",
        "A_new = np.zeros((500, 10))"
      ]
    },
    {
      "cell_type": "code",
      "execution_count": null,
      "metadata": {
        "id": "-jeCDEOlEUNZ",
        "colab": {
          "base_uri": "https://localhost:8080/"
        },
        "outputId": "df66a58a-8fae-4d8e-d927-a0d0e55d8231"
      },
      "outputs": [
        {
          "output_type": "stream",
          "name": "stdout",
          "text": [
            "2.44 ms ± 585 µs per loop (mean ± std. dev. of 7 runs, 1000 loops each)\n"
          ]
        }
      ],
      "source": [
        "%%timeit\n",
        "for row_i in range(500):\n",
        "    for col_i in range(10):\n",
        "        A_new[row_i][col_i] = col_i + 10 * row_i\n"
      ]
    },
    {
      "cell_type": "markdown",
      "metadata": {
        "id": "yyCVh5bTEUNZ"
      },
      "source": [
        "Все операции с `numpy.ndarray` по-умолчанию поэлементные. Таким образом, умножение на два это всего лишь:"
      ]
    },
    {
      "cell_type": "code",
      "execution_count": null,
      "metadata": {
        "id": "IVAgqoNgEUNZ",
        "colab": {
          "base_uri": "https://localhost:8080/"
        },
        "outputId": "424d1330-9a90-4bf9-cddc-edd0f07344cd"
      },
      "outputs": [
        {
          "output_type": "execute_result",
          "data": {
            "text/plain": [
              "array([[ 0,  1,  2,  3,  4,  5,  6,  7,  8,  9],\n",
              "       [10, 11, 12, 13, 14, 15, 16, 17, 18, 19],\n",
              "       [20, 21, 22, 23, 24, 25, 26, 27, 28, 29],\n",
              "       [30, 31, 32, 33, 34, 35, 36, 37, 38, 39],\n",
              "       [40, 41, 42, 43, 44, 45, 46, 47, 48, 49]])"
            ]
          },
          "metadata": {},
          "execution_count": 19
        }
      ],
      "source": [
        "A_numpy = np.asarray(A, dtype=int)\n",
        "A_numpy[:5]"
      ]
    },
    {
      "cell_type": "code",
      "execution_count": null,
      "metadata": {
        "id": "rzd0W3JSEUNZ",
        "colab": {
          "base_uri": "https://localhost:8080/"
        },
        "outputId": "da2aa996-4642-42dc-b68b-d4efd04fbc47"
      },
      "outputs": [
        {
          "output_type": "execute_result",
          "data": {
            "text/plain": [
              "array([[ 0,  2,  4,  6,  8, 10, 12, 14, 16, 18],\n",
              "       [20, 22, 24, 26, 28, 30, 32, 34, 36, 38],\n",
              "       [40, 42, 44, 46, 48, 50, 52, 54, 56, 58],\n",
              "       [60, 62, 64, 66, 68, 70, 72, 74, 76, 78],\n",
              "       [80, 82, 84, 86, 88, 90, 92, 94, 96, 98]])"
            ]
          },
          "metadata": {},
          "execution_count": 20
        }
      ],
      "source": [
        "A_new = 2 * A_numpy\n",
        "A_new[:5]"
      ]
    },
    {
      "cell_type": "markdown",
      "metadata": {
        "id": "8pX6NRCfEUNZ"
      },
      "source": [
        "Оценим скорость работы."
      ]
    },
    {
      "cell_type": "code",
      "execution_count": null,
      "metadata": {
        "id": "03VLw8S_EUNa",
        "colab": {
          "base_uri": "https://localhost:8080/"
        },
        "outputId": "48dc94ee-94ae-4215-934c-81a9424f6328"
      },
      "outputs": [
        {
          "output_type": "stream",
          "name": "stdout",
          "text": [
            "6.3 µs ± 1.71 µs per loop (mean ± std. dev. of 7 runs, 100000 loops each)\n"
          ]
        }
      ],
      "source": [
        "%%timeit\n",
        "\n",
        "A_new = 2 * A_numpy"
      ]
    },
    {
      "cell_type": "markdown",
      "metadata": {
        "id": "1Hh7yXa1EUNa"
      },
      "source": [
        "Таким образом, главным преимуществом библиотеки NumPy являтся высокая скорость работы: ускорение почти в 100 раз по сравнению с лучшим вариантом на Python.\n",
        "\n",
        "| Реализация       | Время работы |\n",
        "|------------------|--------------|\n",
        "| lists            | 511 µs       |\n",
        "| lists generators | 340 µs       |\n",
        "| python + numpy   | ???          |\n",
        "| numpy            | 3.15 µs      |"
      ]
    },
    {
      "cell_type": "markdown",
      "metadata": {
        "id": "hMsai6rjEUNa"
      },
      "source": [
        "## Библиотека NumPy"
      ]
    },
    {
      "cell_type": "markdown",
      "metadata": {
        "id": "mUPXnm4_EUNa"
      },
      "source": [
        "### Создание массивов"
      ]
    },
    {
      "cell_type": "markdown",
      "metadata": {
        "id": "SJlMmMXAEUNa"
      },
      "source": [
        "**Вариант 1**: создание `numpy.ndarray` заданных форм и характеристик:\n",
        "* `np.zeros` – матрица из нулей;\n",
        "* `np.ones` – матрица из единицы;\n",
        "* `np.eye` – единичная марица;\n",
        "* `np.arange`, `np.linspace` – массивы с дискретным шагом."
      ]
    },
    {
      "cell_type": "code",
      "execution_count": null,
      "metadata": {
        "id": "WT7jQqpVEUNa",
        "colab": {
          "base_uri": "https://localhost:8080/"
        },
        "outputId": "74bb113d-b87a-49f0-e8f5-6e70107dc6f6"
      },
      "outputs": [
        {
          "output_type": "execute_result",
          "data": {
            "text/plain": [
              "array([0., 0., 0., 0., 0.])"
            ]
          },
          "metadata": {},
          "execution_count": 22
        }
      ],
      "source": [
        "np.zeros(5)"
      ]
    },
    {
      "cell_type": "code",
      "execution_count": null,
      "metadata": {
        "id": "m1I86W-4EUNa",
        "colab": {
          "base_uri": "https://localhost:8080/"
        },
        "outputId": "8b4f7335-e947-484e-9fe2-3d0509ef254f"
      },
      "outputs": [
        {
          "output_type": "execute_result",
          "data": {
            "text/plain": [
              "array([0., 0., 0., 0., 0.])"
            ]
          },
          "metadata": {},
          "execution_count": 23
        }
      ],
      "source": [
        "np.zeros((5, ))"
      ]
    },
    {
      "cell_type": "code",
      "execution_count": null,
      "metadata": {
        "id": "7jC5cDdUEUNa",
        "colab": {
          "base_uri": "https://localhost:8080/"
        },
        "outputId": "34314948-6e8a-4e3b-aee7-aecab246be4e"
      },
      "outputs": [
        {
          "output_type": "execute_result",
          "data": {
            "text/plain": [
              "array([[0.],\n",
              "       [0.],\n",
              "       [0.],\n",
              "       [0.],\n",
              "       [0.]])"
            ]
          },
          "metadata": {},
          "execution_count": 24
        }
      ],
      "source": [
        "np.zeros((5, 1))"
      ]
    },
    {
      "cell_type": "code",
      "execution_count": null,
      "metadata": {
        "id": "nNYpESbBEUNe",
        "colab": {
          "base_uri": "https://localhost:8080/"
        },
        "outputId": "941b081a-f406-4a2d-e997-a55bc2d647bd"
      },
      "outputs": [
        {
          "output_type": "execute_result",
          "data": {
            "text/plain": [
              "array([0, 1, 2, 3, 4, 5, 6, 7, 8, 9])"
            ]
          },
          "metadata": {},
          "execution_count": 25
        }
      ],
      "source": [
        "np.arange(10)"
      ]
    },
    {
      "cell_type": "code",
      "execution_count": null,
      "metadata": {
        "id": "mxtoJELzEUNe",
        "colab": {
          "base_uri": "https://localhost:8080/"
        },
        "outputId": "30d02fc5-bca2-4292-a521-9cf9e6cacc33"
      },
      "outputs": [
        {
          "output_type": "execute_result",
          "data": {
            "text/plain": [
              "array([2. , 2.5, 3. , 3.5, 4. , 4.5, 5. , 5.5, 6. , 6.5, 7. , 7.5])"
            ]
          },
          "metadata": {},
          "execution_count": 26
        }
      ],
      "source": [
        "np.arange(2, 8, 0.5)"
      ]
    },
    {
      "cell_type": "markdown",
      "metadata": {
        "id": "Pm0Eh7JMEUNe"
      },
      "source": [
        "**Вариант 2**: создание из Python-объектов"
      ]
    },
    {
      "cell_type": "code",
      "execution_count": null,
      "metadata": {
        "id": "pWxo5E8aEUNe",
        "colab": {
          "base_uri": "https://localhost:8080/"
        },
        "outputId": "e79f428c-deb6-42f2-bc93-9762d98752e6"
      },
      "outputs": [
        {
          "output_type": "execute_result",
          "data": {
            "text/plain": [
              "array([[ 0,  1,  2,  3,  4],\n",
              "       [ 5,  6,  7,  8,  9],\n",
              "       [10, 11, 12, 13, 14],\n",
              "       [15, 16, 17, 18, 19]])"
            ]
          },
          "metadata": {},
          "execution_count": 27
        }
      ],
      "source": [
        "a = [[ 0,  1,  2,  3,  4],\n",
        "     [ 5,  6,  7,  8,  9],\n",
        "     [10, 11, 12, 13, 14],\n",
        "     [15, 16, 17, 18, 19]]\n",
        "\n",
        "a = np.asarray(a, dtype=int)\n",
        "a"
      ]
    },
    {
      "cell_type": "code",
      "execution_count": null,
      "metadata": {
        "id": "HNceanUFEUNe",
        "colab": {
          "base_uri": "https://localhost:8080/"
        },
        "outputId": "5c6ed181-e3bc-4431-9a7e-fb52c867ead8"
      },
      "outputs": [
        {
          "output_type": "execute_result",
          "data": {
            "text/plain": [
              "array([[ 0,  1,  2,  3,  4],\n",
              "       [ 5,  6,  7,  8,  9],\n",
              "       [10, 11, 12, 13, 14],\n",
              "       [15, 16, 17, 18, 19]], dtype=uint8)"
            ]
          },
          "metadata": {},
          "execution_count": 28
        }
      ],
      "source": [
        "np.asarray(a, dtype=np.uint8)"
      ]
    },
    {
      "cell_type": "markdown",
      "metadata": {
        "id": "oYzoqMkVEUNe"
      },
      "source": [
        "### Поэлементные операции со скалярами"
      ]
    },
    {
      "cell_type": "markdown",
      "metadata": {
        "id": "ULqVJD6KEUNe"
      },
      "source": [
        "`numpy.ndarray` поддерживает арифметические поэлементые операции:\n",
        "\n",
        "`c = op(a, sc)` $\\Longleftrightarrow$ `c[i,j] = op(a[i,j], sc)`"
      ]
    },
    {
      "cell_type": "code",
      "execution_count": null,
      "metadata": {
        "id": "FZnBJkKJEUNe",
        "colab": {
          "base_uri": "https://localhost:8080/"
        },
        "outputId": "d3198e0a-f0f3-424f-fc62-d65d5aa39ccd"
      },
      "outputs": [
        {
          "output_type": "execute_result",
          "data": {
            "text/plain": [
              "array([[10, 11, 12, 13, 14],\n",
              "       [15, 16, 17, 18, 19],\n",
              "       [20, 21, 22, 23, 24],\n",
              "       [25, 26, 27, 28, 29]])"
            ]
          },
          "metadata": {},
          "execution_count": 29
        }
      ],
      "source": [
        "a + 10"
      ]
    },
    {
      "cell_type": "code",
      "execution_count": null,
      "metadata": {
        "id": "r2IkAjK2EUNe",
        "colab": {
          "base_uri": "https://localhost:8080/"
        },
        "outputId": "5d6c8160-75c4-4182-9a56-d47ec2894c85"
      },
      "outputs": [
        {
          "output_type": "execute_result",
          "data": {
            "text/plain": [
              "array([[  0,  10,  20,  30,  40],\n",
              "       [ 50,  60,  70,  80,  90],\n",
              "       [100, 110, 120, 130, 140],\n",
              "       [150, 160, 170, 180, 190]])"
            ]
          },
          "metadata": {},
          "execution_count": 30
        }
      ],
      "source": [
        "a * 10"
      ]
    },
    {
      "cell_type": "code",
      "execution_count": null,
      "metadata": {
        "id": "0qx6i6_EEUNe",
        "colab": {
          "base_uri": "https://localhost:8080/"
        },
        "outputId": "c1ebbc9d-bbcd-47dd-a93a-924de0a276bb"
      },
      "outputs": [
        {
          "output_type": "execute_result",
          "data": {
            "text/plain": [
              "array([[0. , 0.1, 0.2, 0.3, 0.4],\n",
              "       [0.5, 0.6, 0.7, 0.8, 0.9],\n",
              "       [1. , 1.1, 1.2, 1.3, 1.4],\n",
              "       [1.5, 1.6, 1.7, 1.8, 1.9]])"
            ]
          },
          "metadata": {},
          "execution_count": 31
        }
      ],
      "source": [
        "a / 10"
      ]
    },
    {
      "cell_type": "code",
      "execution_count": null,
      "metadata": {
        "id": "SglBxfjbEUNe",
        "colab": {
          "base_uri": "https://localhost:8080/"
        },
        "outputId": "850ec165-3996-4690-9d40-8f6acd43487a"
      },
      "outputs": [
        {
          "output_type": "execute_result",
          "data": {
            "text/plain": [
              "array([[0, 0, 0, 0, 0],\n",
              "       [0, 0, 0, 0, 0],\n",
              "       [1, 1, 1, 1, 1],\n",
              "       [1, 1, 1, 1, 1]])"
            ]
          },
          "metadata": {},
          "execution_count": 32
        }
      ],
      "source": [
        "a // 10"
      ]
    },
    {
      "cell_type": "markdown",
      "metadata": {
        "id": "XKStY9UBEUNf"
      },
      "source": [
        "Есть и поддержка более сложных математических функций."
      ]
    },
    {
      "cell_type": "code",
      "execution_count": null,
      "metadata": {
        "id": "4f_ICS5ZEUNf",
        "colab": {
          "base_uri": "https://localhost:8080/"
        },
        "outputId": "97f0d0f5-5173-410d-f9a9-3b14ba802ba9"
      },
      "outputs": [
        {
          "output_type": "execute_result",
          "data": {
            "text/plain": [
              "array([[  0,   1,   4,   9,  16],\n",
              "       [ 25,  36,  49,  64,  81],\n",
              "       [100, 121, 144, 169, 196],\n",
              "       [225, 256, 289, 324, 361]])"
            ]
          },
          "metadata": {},
          "execution_count": 33
        }
      ],
      "source": [
        "a ** 2  # same as np.pow(a, 2)"
      ]
    },
    {
      "cell_type": "code",
      "execution_count": null,
      "metadata": {
        "id": "BputKoaTEUNf",
        "colab": {
          "base_uri": "https://localhost:8080/"
        },
        "outputId": "3d67efa1-5e1d-4efa-adfb-1b523f979646"
      },
      "outputs": [
        {
          "output_type": "execute_result",
          "data": {
            "text/plain": [
              "array([[ 0.,  1.,  2.,  3.,  4.],\n",
              "       [ 5.,  6.,  7.,  8.,  9.],\n",
              "       [10., 11., 12., 13., 14.],\n",
              "       [15., 16., 17., 18., 19.]])"
            ]
          },
          "metadata": {},
          "execution_count": 34
        }
      ],
      "source": [
        "np.sqrt(a ** 2)"
      ]
    },
    {
      "cell_type": "code",
      "execution_count": null,
      "metadata": {
        "id": "q8lWn0J9EUNf",
        "colab": {
          "base_uri": "https://localhost:8080/"
        },
        "outputId": "8f6a8b0f-3d2d-43f5-abe6-8fd11c40f10a"
      },
      "outputs": [
        {
          "output_type": "execute_result",
          "data": {
            "text/plain": [
              "array([[ 0.        ,  0.84147098,  0.90929743,  0.14112001, -0.7568025 ],\n",
              "       [-0.95892427, -0.2794155 ,  0.6569866 ,  0.98935825,  0.41211849],\n",
              "       [-0.54402111, -0.99999021, -0.53657292,  0.42016704,  0.99060736],\n",
              "       [ 0.65028784, -0.28790332, -0.96139749, -0.75098725,  0.14987721]])"
            ]
          },
          "metadata": {},
          "execution_count": 35
        }
      ],
      "source": [
        "np.sin(a)"
      ]
    },
    {
      "cell_type": "markdown",
      "metadata": {
        "id": "8MB4ySlXEUNf"
      },
      "source": [
        "И поддержка логических операций."
      ]
    },
    {
      "cell_type": "code",
      "execution_count": null,
      "metadata": {
        "id": "uoQAmQ3uEUNf",
        "colab": {
          "base_uri": "https://localhost:8080/"
        },
        "outputId": "13af103d-b869-4c18-932c-d418516ee53d"
      },
      "outputs": [
        {
          "output_type": "execute_result",
          "data": {
            "text/plain": [
              "array([[False, False, False, False, False],\n",
              "       [False, False, False, False, False],\n",
              "       [ True,  True,  True,  True,  True],\n",
              "       [ True,  True,  True,  True,  True]])"
            ]
          },
          "metadata": {},
          "execution_count": 36
        }
      ],
      "source": [
        "a >= 10"
      ]
    },
    {
      "cell_type": "markdown",
      "metadata": {
        "id": "hRoDODmwEUNf"
      },
      "source": [
        "### Устройство массивов, их размерность и размеры"
      ]
    },
    {
      "cell_type": "markdown",
      "source": [
        "![numpy_array_abstraction.png](https://data.bioml.ru/htdocs/courses/python/datasci/numpy/img/numpy_array_abstraction.png)"
      ],
      "metadata": {
        "id": "EeWimxBmdAm-"
      }
    },
    {
      "cell_type": "code",
      "execution_count": null,
      "metadata": {
        "colab": {
          "base_uri": "https://localhost:8080/"
        },
        "id": "wOu31FCOEUNf",
        "outputId": "299d919e-9677-473d-85f3-f9614ee76696"
      },
      "outputs": [
        {
          "output_type": "execute_result",
          "data": {
            "text/plain": [
              "array([[1., 2., 3., 4., 5.],\n",
              "       [6., 7., 8., 9., 0.]])"
            ]
          },
          "metadata": {},
          "execution_count": 46
        }
      ],
      "source": [
        "a = np.array([[1, 2, 3, 4, 5],\n",
        "              [6, 7, 8, 9, 0]],\n",
        "             dtype=float)\n",
        "a"
      ]
    },
    {
      "cell_type": "markdown",
      "metadata": {
        "id": "un9BAiZyEUNf"
      },
      "source": [
        "Массивы `numpy.ndarray` в основе себя используют обычные массивы фиксированного размера (атрибут `data`).\n",
        "\n",
        "Многомерные массивы хранятся как один большой последовательный блок памяти."
      ]
    },
    {
      "cell_type": "code",
      "execution_count": null,
      "metadata": {
        "id": "5Mq4lmtcEUNf",
        "colab": {
          "base_uri": "https://localhost:8080/"
        },
        "outputId": "68fec5cd-a5d9-4270-e7c6-290d0b3e1ed1"
      },
      "outputs": [
        {
          "output_type": "execute_result",
          "data": {
            "text/plain": [
              "<memory at 0x7def25fac1e0>"
            ]
          },
          "metadata": {},
          "execution_count": 37
        }
      ],
      "source": [
        "a.data"
      ]
    },
    {
      "cell_type": "markdown",
      "metadata": {
        "id": "ixwYkc4gEUNf"
      },
      "source": [
        "У `numpy.ndarray` есть атрибут `dtype`, который содержит информацию о типе данных, хранимых в массиве."
      ]
    },
    {
      "cell_type": "code",
      "execution_count": null,
      "metadata": {
        "id": "QNOKTGjEEUNf",
        "colab": {
          "base_uri": "https://localhost:8080/"
        },
        "outputId": "36dfca3a-940f-4b8d-d955-632aed3f1c86"
      },
      "outputs": [
        {
          "output_type": "execute_result",
          "data": {
            "text/plain": [
              "dtype('int64')"
            ]
          },
          "metadata": {},
          "execution_count": 38
        }
      ],
      "source": [
        "a.dtype"
      ]
    },
    {
      "cell_type": "code",
      "execution_count": null,
      "metadata": {
        "id": "mT18Q03SEUNg",
        "colab": {
          "base_uri": "https://localhost:8080/"
        },
        "outputId": "19f1c225-acad-4235-e047-3b59f0663d3e"
      },
      "outputs": [
        {
          "output_type": "execute_result",
          "data": {
            "text/plain": [
              "8"
            ]
          },
          "metadata": {},
          "execution_count": 39
        }
      ],
      "source": [
        "a.dtype.itemsize  # sizeof(float64)"
      ]
    },
    {
      "cell_type": "markdown",
      "source": [
        "| Тип данных | Описание |\n",
        "|:---------- |:-------- |\n",
        "| bool       | Boolean (True or False) stored as a byte |\n",
        "| int        | Platform integer (normally either int32 or int64) |\n",
        "| int8       | Byte (-128 to 127) |\n",
        "| int16      | Integer (-32768 to 32767) |\n",
        "| int32      | Integer (-2147483648 to 2147483647) |\n",
        "| int64      | Integer (-9223372036854775808 to 9223372036854775807) |\n",
        "| uint8      | Unsigned integer (0 to 255) |\n",
        "| uint16     | Unsigned integer (0 to 65535) |\n",
        "| uint32     | Unsigned integer (0 to 4294967295) |\n",
        "| uint64     | Unsigned integer (0 to 18446744073709551615) |\n",
        "| float      | Shorthand for float64 |\n",
        "| float32    | Single precision float: sign bit, 8 bits exponent, 23 bits mantissa |\n",
        "| float64    | Double precision float: sign bit, 11 bits exponent, 52 bits mantissa |\n",
        "| complex    | Shorthand for complex128 |\n",
        "| complex64  | Complex number, represented by two 32-bit floats (real and imaginary components) |\n",
        "| complex128 | Complex number, represented by two 64-bit floats (real and imaginary components) |"
      ],
      "metadata": {
        "id": "DDzBCrA82tTB"
      }
    },
    {
      "cell_type": "markdown",
      "metadata": {
        "id": "CX_CWsQnEUNg"
      },
      "source": [
        "Поменять тип массива можно с помощью метода `astype`, что очевидно приведет копированию данных."
      ]
    },
    {
      "cell_type": "code",
      "execution_count": null,
      "metadata": {
        "id": "DCDvcY86EUNg",
        "colab": {
          "base_uri": "https://localhost:8080/"
        },
        "outputId": "ef289ef6-df82-474a-94c3-fd2ce20283fc"
      },
      "outputs": [
        {
          "output_type": "execute_result",
          "data": {
            "text/plain": [
              "dtype('int64')"
            ]
          },
          "metadata": {},
          "execution_count": 40
        }
      ],
      "source": [
        "a.astype(int).dtype"
      ]
    },
    {
      "cell_type": "code",
      "execution_count": null,
      "metadata": {
        "id": "egl3hJsLEUNg",
        "colab": {
          "base_uri": "https://localhost:8080/"
        },
        "outputId": "147e76b4-8ff0-45cc-d700-f8cc9eec250d"
      },
      "outputs": [
        {
          "output_type": "execute_result",
          "data": {
            "text/plain": [
              "dtype('int8')"
            ]
          },
          "metadata": {},
          "execution_count": 42
        }
      ],
      "source": [
        "a.astype(np.int8).dtype"
      ]
    },
    {
      "cell_type": "markdown",
      "metadata": {
        "id": "wpmTs-OeEUNg"
      },
      "source": [
        "У `numpy.ndarray` есть атрибут `shape` – размер массива."
      ]
    },
    {
      "cell_type": "code",
      "execution_count": null,
      "metadata": {
        "id": "Bu-mvqfPEUNg",
        "colab": {
          "base_uri": "https://localhost:8080/"
        },
        "outputId": "2980cc51-4c0d-4835-9426-270324e87c86"
      },
      "outputs": [
        {
          "output_type": "execute_result",
          "data": {
            "text/plain": [
              "(4, 5)"
            ]
          },
          "metadata": {},
          "execution_count": 43
        }
      ],
      "source": [
        "a.shape"
      ]
    },
    {
      "cell_type": "code",
      "source": [
        "a.strides"
      ],
      "metadata": {
        "colab": {
          "base_uri": "https://localhost:8080/"
        },
        "id": "rBO-OYGPwyc9",
        "outputId": "9433e79e-5915-4768-c507-c976f54f1c9e"
      },
      "execution_count": null,
      "outputs": [
        {
          "output_type": "execute_result",
          "data": {
            "text/plain": [
              "(40, 8)"
            ]
          },
          "metadata": {},
          "execution_count": 44
        }
      ]
    },
    {
      "cell_type": "markdown",
      "metadata": {
        "id": "zpecRfQDEUNg"
      },
      "source": [
        "Для изменения размера массива используется метод `reshape`. Метод возвращает новый объект, который имеет тот же атрибут `data`, что и исходный массив. Т.е. копирования данных обычно **НЕ происходит**."
      ]
    },
    {
      "cell_type": "code",
      "execution_count": null,
      "metadata": {
        "id": "OrVhBLwQEUNg",
        "colab": {
          "base_uri": "https://localhost:8080/"
        },
        "outputId": "89ca2ae8-d7c0-4fa5-bb22-3943eae4ee9d"
      },
      "outputs": [
        {
          "output_type": "execute_result",
          "data": {
            "text/plain": [
              "array([[1., 2.],\n",
              "       [3., 4.],\n",
              "       [5., 6.],\n",
              "       [7., 8.],\n",
              "       [9., 0.]])"
            ]
          },
          "metadata": {},
          "execution_count": 47
        }
      ],
      "source": [
        "a.reshape(5, 2)"
      ]
    },
    {
      "cell_type": "code",
      "execution_count": null,
      "metadata": {
        "id": "ii5GFa2OEUNg",
        "colab": {
          "base_uri": "https://localhost:8080/",
          "height": 176
        },
        "outputId": "e61e3ed3-c122-4308-e696-727d1caf2498"
      },
      "outputs": [
        {
          "output_type": "error",
          "ename": "ValueError",
          "evalue": "cannot reshape array of size 10 into shape (5,3)",
          "traceback": [
            "\u001b[0;31m---------------------------------------------------------------------------\u001b[0m",
            "\u001b[0;31mValueError\u001b[0m                                Traceback (most recent call last)",
            "\u001b[0;32m/tmp/ipython-input-1189670316.py\u001b[0m in \u001b[0;36m<cell line: 0>\u001b[0;34m()\u001b[0m\n\u001b[1;32m      1\u001b[0m \u001b[0;31m# размеры должны быть корректными\u001b[0m\u001b[0;34m\u001b[0m\u001b[0;34m\u001b[0m\u001b[0m\n\u001b[1;32m      2\u001b[0m \u001b[0;34m\u001b[0m\u001b[0m\n\u001b[0;32m----> 3\u001b[0;31m \u001b[0ma\u001b[0m\u001b[0;34m.\u001b[0m\u001b[0mreshape\u001b[0m\u001b[0;34m(\u001b[0m\u001b[0;36m5\u001b[0m\u001b[0;34m,\u001b[0m \u001b[0;36m3\u001b[0m\u001b[0;34m)\u001b[0m\u001b[0;34m\u001b[0m\u001b[0;34m\u001b[0m\u001b[0m\n\u001b[0m",
            "\u001b[0;31mValueError\u001b[0m: cannot reshape array of size 10 into shape (5,3)"
          ]
        }
      ],
      "source": [
        "# размеры должны быть корректными\n",
        "\n",
        "a.reshape(5, 3)"
      ]
    },
    {
      "cell_type": "code",
      "execution_count": null,
      "metadata": {
        "id": "qrhnOMAJEUNg",
        "colab": {
          "base_uri": "https://localhost:8080/"
        },
        "outputId": "30b60d52-1506-41fd-ecc3-9f3b251ef7fc"
      },
      "outputs": [
        {
          "output_type": "execute_result",
          "data": {
            "text/plain": [
              "array([[1., 2.],\n",
              "       [3., 4.],\n",
              "       [5., 6.],\n",
              "       [7., 8.],\n",
              "       [9., 0.]])"
            ]
          },
          "metadata": {},
          "execution_count": 49
        }
      ],
      "source": [
        "# -1 говорит о том, что длина размерности может быть вычислена автоматически\n",
        "\n",
        "a.reshape(-1, 2)"
      ]
    },
    {
      "cell_type": "code",
      "execution_count": null,
      "metadata": {
        "id": "7XCvWHozEUNg",
        "colab": {
          "base_uri": "https://localhost:8080/"
        },
        "outputId": "2986c482-a341-402f-9f4c-e543ee72d4e1"
      },
      "outputs": [
        {
          "output_type": "execute_result",
          "data": {
            "text/plain": [
              "array([1., 2., 3., 4., 5., 6., 7., 8., 9., 0.])"
            ]
          },
          "metadata": {},
          "execution_count": 50
        }
      ],
      "source": [
        "a.ravel()  # same as a.reshape(-1)"
      ]
    },
    {
      "cell_type": "markdown",
      "metadata": {
        "id": "SJWg1_Z3EUNg"
      },
      "source": [
        "Еще раз подчеркнем, что копирования данных обычно **не происходит**!"
      ]
    },
    {
      "cell_type": "code",
      "execution_count": null,
      "metadata": {
        "id": "LUTNJEsGEUNh",
        "colab": {
          "base_uri": "https://localhost:8080/"
        },
        "outputId": "0908490c-dcb2-4ad5-84c1-0c4039a04844"
      },
      "outputs": [
        {
          "output_type": "execute_result",
          "data": {
            "text/plain": [
              "array([[1., 2., 3., 4., 5.],\n",
              "       [6., 7., 8., 9., 0.]])"
            ]
          },
          "metadata": {},
          "execution_count": 51
        }
      ],
      "source": [
        "a"
      ]
    },
    {
      "cell_type": "code",
      "execution_count": null,
      "metadata": {
        "id": "HHVJVccZEUNh",
        "colab": {
          "base_uri": "https://localhost:8080/"
        },
        "outputId": "00c16f62-14a2-4c2f-b891-ca4ee84f29f6"
      },
      "outputs": [
        {
          "output_type": "execute_result",
          "data": {
            "text/plain": [
              "array([[1., 2.],\n",
              "       [3., 4.],\n",
              "       [5., 6.],\n",
              "       [7., 8.],\n",
              "       [9., 0.]])"
            ]
          },
          "metadata": {},
          "execution_count": 52
        }
      ],
      "source": [
        "b = a.reshape(-1, 2)\n",
        "b"
      ]
    },
    {
      "cell_type": "code",
      "execution_count": null,
      "metadata": {
        "id": "dkN1_2ZyEUNh",
        "colab": {
          "base_uri": "https://localhost:8080/"
        },
        "outputId": "3bcf6fc2-a459-4a1f-afbd-1ed795792a2b"
      },
      "outputs": [
        {
          "output_type": "execute_result",
          "data": {
            "text/plain": [
              "array([[ 1.,  2.,  3.,  4.,  5.],\n",
              "       [ 6.,  7.,  8.,  9., 10.]])"
            ]
          },
          "metadata": {},
          "execution_count": 53
        }
      ],
      "source": [
        "a[-1, -1] = 10\n",
        "a"
      ]
    },
    {
      "cell_type": "code",
      "execution_count": null,
      "metadata": {
        "id": "PfC6BQ_8EUNh",
        "colab": {
          "base_uri": "https://localhost:8080/"
        },
        "outputId": "341c29d5-21b0-4438-c598-8829eb189d47"
      },
      "outputs": [
        {
          "output_type": "execute_result",
          "data": {
            "text/plain": [
              "array([[ 1.,  2.],\n",
              "       [ 3.,  4.],\n",
              "       [ 5.,  6.],\n",
              "       [ 7.,  8.],\n",
              "       [ 9., 10.]])"
            ]
          },
          "metadata": {},
          "execution_count": 54
        }
      ],
      "source": [
        "b"
      ]
    },
    {
      "cell_type": "markdown",
      "metadata": {
        "id": "YDA6yZewEUNh"
      },
      "source": [
        "Фиктивная размерность – размерность длины 1. Фиктивная размерность нужна для того, чтобы совершать матричные операции, например, умножение вектора на матрицу."
      ]
    },
    {
      "cell_type": "code",
      "source": [
        "a_c = a.copy()\n",
        "a"
      ],
      "metadata": {
        "colab": {
          "base_uri": "https://localhost:8080/"
        },
        "id": "dndUgMOkyXm1",
        "outputId": "6d2bb458-9878-40cc-b373-789ea6d419c1"
      },
      "execution_count": null,
      "outputs": [
        {
          "output_type": "execute_result",
          "data": {
            "text/plain": [
              "array([ 1.,  2.,  3.,  4.,  5.,  6.,  7.,  8.,  9., 10.])"
            ]
          },
          "metadata": {},
          "execution_count": 66
        }
      ]
    },
    {
      "cell_type": "code",
      "source": [
        "a_c[0] = -10\n",
        "a"
      ],
      "metadata": {
        "colab": {
          "base_uri": "https://localhost:8080/"
        },
        "id": "m5HbnTFGyaUf",
        "outputId": "cce54941-7f93-43d7-9194-b67cf6764a8f"
      },
      "execution_count": null,
      "outputs": [
        {
          "output_type": "execute_result",
          "data": {
            "text/plain": [
              "array([ 1.,  2.,  3.,  4.,  5.,  6.,  7.,  8.,  9., 10.])"
            ]
          },
          "metadata": {},
          "execution_count": 67
        }
      ]
    },
    {
      "cell_type": "code",
      "execution_count": null,
      "metadata": {
        "id": "kcLNtjD8EUNh",
        "colab": {
          "base_uri": "https://localhost:8080/"
        },
        "outputId": "9b7c5895-fcc4-455f-ff41-9f8b07fe4b26"
      },
      "outputs": [
        {
          "output_type": "execute_result",
          "data": {
            "text/plain": [
              "array([ 1.,  2.,  3.,  4.,  5.,  6.,  7.,  8.,  9., 10.])"
            ]
          },
          "metadata": {},
          "execution_count": 55
        }
      ],
      "source": [
        "a = a.ravel()\n",
        "a"
      ]
    },
    {
      "cell_type": "code",
      "execution_count": null,
      "metadata": {
        "id": "Qr79hWtVEUNh",
        "colab": {
          "base_uri": "https://localhost:8080/"
        },
        "outputId": "bc61307a-6c7d-4b86-b9bd-b43a585f42d8"
      },
      "outputs": [
        {
          "output_type": "execute_result",
          "data": {
            "text/plain": [
              "(10,)"
            ]
          },
          "metadata": {},
          "execution_count": 56
        }
      ],
      "source": [
        "a.shape"
      ]
    },
    {
      "cell_type": "code",
      "execution_count": null,
      "metadata": {
        "id": "Qb_NR1mTEUNh",
        "colab": {
          "base_uri": "https://localhost:8080/"
        },
        "outputId": "c516c391-afca-4103-da1c-0b0c641b0583"
      },
      "outputs": [
        {
          "output_type": "execute_result",
          "data": {
            "text/plain": [
              "array([[ 1.,  2.,  3.,  4.,  5.,  6.,  7.,  8.,  9., 10.]])"
            ]
          },
          "metadata": {},
          "execution_count": 57
        }
      ],
      "source": [
        "b = a[np.newaxis, :]  # same as a.reshape(1, -1)\n",
        "b"
      ]
    },
    {
      "cell_type": "code",
      "execution_count": null,
      "metadata": {
        "id": "1NX8nSn2EUNh",
        "colab": {
          "base_uri": "https://localhost:8080/"
        },
        "outputId": "106a3698-830b-494d-8399-0d946096afad"
      },
      "outputs": [
        {
          "output_type": "execute_result",
          "data": {
            "text/plain": [
              "(1, 10)"
            ]
          },
          "metadata": {},
          "execution_count": 58
        }
      ],
      "source": [
        "b.shape"
      ]
    },
    {
      "cell_type": "code",
      "execution_count": null,
      "metadata": {
        "id": "_s_0rbRAEUNh",
        "colab": {
          "base_uri": "https://localhost:8080/"
        },
        "outputId": "ed2d1092-8467-4742-9ae3-90f9c8f06269"
      },
      "outputs": [
        {
          "output_type": "execute_result",
          "data": {
            "text/plain": [
              "array([[ 1.],\n",
              "       [ 2.],\n",
              "       [ 3.],\n",
              "       [ 4.],\n",
              "       [ 5.],\n",
              "       [ 6.],\n",
              "       [ 7.],\n",
              "       [ 8.],\n",
              "       [ 9.],\n",
              "       [10.]])"
            ]
          },
          "metadata": {},
          "execution_count": 59
        }
      ],
      "source": [
        "b = a[:, np.newaxis]  # same as a.reshape(-1, 1)\n",
        "b"
      ]
    },
    {
      "cell_type": "code",
      "execution_count": null,
      "metadata": {
        "id": "mAviiFndEUNh",
        "colab": {
          "base_uri": "https://localhost:8080/"
        },
        "outputId": "b9ff13a8-762e-4cb2-9bac-1db3e079992c"
      },
      "outputs": [
        {
          "output_type": "execute_result",
          "data": {
            "text/plain": [
              "(10, 1)"
            ]
          },
          "metadata": {},
          "execution_count": 60
        }
      ],
      "source": [
        "b.shape"
      ]
    },
    {
      "cell_type": "code",
      "source": [
        "np.newaxis is None"
      ],
      "metadata": {
        "colab": {
          "base_uri": "https://localhost:8080/"
        },
        "id": "DsbWr-2Ayg7Q",
        "outputId": "6ab08ef2-eee9-4110-9ce4-93b7aedae063"
      },
      "execution_count": null,
      "outputs": [
        {
          "output_type": "execute_result",
          "data": {
            "text/plain": [
              "True"
            ]
          },
          "metadata": {},
          "execution_count": 61
        }
      ]
    },
    {
      "cell_type": "code",
      "source": [
        "a[:, None]"
      ],
      "metadata": {
        "id": "HJSRY_-Yyiu4",
        "colab": {
          "base_uri": "https://localhost:8080/"
        },
        "outputId": "7862728f-d139-426a-ed9b-918401d4fdcf"
      },
      "execution_count": null,
      "outputs": [
        {
          "output_type": "execute_result",
          "data": {
            "text/plain": [
              "array([[ 1.],\n",
              "       [ 2.],\n",
              "       [ 3.],\n",
              "       [ 4.],\n",
              "       [ 5.],\n",
              "       [ 6.],\n",
              "       [ 7.],\n",
              "       [ 8.],\n",
              "       [ 9.],\n",
              "       [10.]])"
            ]
          },
          "metadata": {},
          "execution_count": 62
        }
      ]
    },
    {
      "cell_type": "markdown",
      "metadata": {
        "id": "PC-BEvDqEUNi"
      },
      "source": [
        "### 🧐 Интересный факт про размерность массивов и копирование\n",
        "\n",
        "У `numpy.ndarray` есть атрибут `strides`, который регулирует порядок обхода массива (атрибут `data`). Этот атрибут очень важен для многомерных массивов.\n",
        "\n",
        "Первое число показывает, сколько байт нужно прочитать, чтобы переместиться на следующую строку и остаться в том же столбце.\n",
        "\n",
        "Второе число показывает, сколько байт нужно прочитать, чтобы переместиться на следующий столбец и остаться в той же строке."
      ]
    },
    {
      "cell_type": "code",
      "execution_count": null,
      "metadata": {
        "id": "FFoXYolMEUNi",
        "colab": {
          "base_uri": "https://localhost:8080/"
        },
        "outputId": "ed47aeec-fde2-485f-cfa0-11d9be03cdd0"
      },
      "outputs": [
        {
          "output_type": "execute_result",
          "data": {
            "text/plain": [
              "array([[ 0,  1,  2,  3,  4,  5],\n",
              "       [ 6,  7,  8,  9, 10, 11]])"
            ]
          },
          "metadata": {},
          "execution_count": 63
        }
      ],
      "source": [
        "c = np.arange(12).reshape(2, -1)\n",
        "c"
      ]
    },
    {
      "cell_type": "code",
      "execution_count": null,
      "metadata": {
        "id": "X53tjn7VEUNi",
        "colab": {
          "base_uri": "https://localhost:8080/"
        },
        "outputId": "8a8dcd1f-b178-43b7-c906-9c0adc1c7c16"
      },
      "outputs": [
        {
          "output_type": "execute_result",
          "data": {
            "text/plain": [
              "((2, 6), 8, (48, 8))"
            ]
          },
          "metadata": {},
          "execution_count": 64
        }
      ],
      "source": [
        "c.shape, c.dtype.itemsize, c.strides"
      ]
    },
    {
      "cell_type": "code",
      "execution_count": null,
      "metadata": {
        "id": "mAJ6EWzYEUNi"
      },
      "outputs": [],
      "source": [
        "assert c.strides == (c.shape[1] * c.dtype.itemsize, c.dtype.itemsize,)\n",
        "\n",
        "# для перехода к следующей строке нужно считать 6 * 8 байт\n",
        "# для перехода к следующему стобцу нужно прочитать 8 байт\n",
        "\n",
        "c.strides  # (6 * 8, 8)"
      ]
    },
    {
      "cell_type": "markdown",
      "metadata": {
        "id": "KK1LQ9Z6EUNi"
      },
      "source": [
        "Поменяем размерность массива и увидим, как меняется атрибут `strides`."
      ]
    },
    {
      "cell_type": "code",
      "execution_count": null,
      "metadata": {
        "id": "yOOoVRafEUNi"
      },
      "outputs": [],
      "source": [
        "c = c.reshape(-1, 2)\n",
        "c"
      ]
    },
    {
      "cell_type": "code",
      "execution_count": null,
      "metadata": {
        "id": "KLcSyJDEEUNi"
      },
      "outputs": [],
      "source": [
        "c.shape"
      ]
    },
    {
      "cell_type": "code",
      "execution_count": null,
      "metadata": {
        "id": "YQJ690JxEUNi"
      },
      "outputs": [],
      "source": [
        "assert c.strides == (c.shape[1] * c.dtype.itemsize, c.dtype.itemsize,)\n",
        "\n",
        "# для перехода к следующей строке нужно считать 2 * 8 байт\n",
        "# для перехода к следующему стобцу нужно прочитать 8 байт\n",
        "\n",
        "c.strides  # (2 * 8, 8)"
      ]
    },
    {
      "cell_type": "markdown",
      "metadata": {
        "id": "tNaomR6kEUNi"
      },
      "source": [
        "Операция транспонирования, как уже говорилось выше не приводит к копированию данных. Она меняет атрибут `strides`, который регулирет порядок обхода массива.\n",
        "\n",
        "Напомним, что `c.data = [ 0,  1,  2,  3,  4,  5,  6,  7,  8,  9, 10, 11]`."
      ]
    },
    {
      "cell_type": "code",
      "execution_count": null,
      "metadata": {
        "id": "RJ6XAqdVEUNi",
        "colab": {
          "base_uri": "https://localhost:8080/"
        },
        "outputId": "f3bd11bb-7c4d-4253-810d-214efa67fe01"
      },
      "outputs": [
        {
          "output_type": "execute_result",
          "data": {
            "text/plain": [
              "array([[ 0,  6],\n",
              "       [ 1,  7],\n",
              "       [ 2,  8],\n",
              "       [ 3,  9],\n",
              "       [ 4, 10],\n",
              "       [ 5, 11]])"
            ]
          },
          "metadata": {},
          "execution_count": 68
        }
      ],
      "source": [
        "c = c.T\n",
        "c"
      ]
    },
    {
      "cell_type": "code",
      "execution_count": null,
      "metadata": {
        "id": "kCw8LWF-EUNi",
        "colab": {
          "base_uri": "https://localhost:8080/"
        },
        "outputId": "13aa8e0b-4647-4432-85ae-50b6cac5e371"
      },
      "outputs": [
        {
          "output_type": "execute_result",
          "data": {
            "text/plain": [
              "(6, 2)"
            ]
          },
          "metadata": {},
          "execution_count": 69
        }
      ],
      "source": [
        "c.shape"
      ]
    },
    {
      "cell_type": "code",
      "execution_count": null,
      "metadata": {
        "id": "Qurw_03uEUNi",
        "colab": {
          "base_uri": "https://localhost:8080/"
        },
        "outputId": "19f3f696-9020-44ba-f55d-8a18318defb5"
      },
      "outputs": [
        {
          "output_type": "execute_result",
          "data": {
            "text/plain": [
              "(8, 48)"
            ]
          },
          "metadata": {},
          "execution_count": 70
        }
      ],
      "source": [
        "assert c.strides == (c.dtype.itemsize, c.shape[0] * c.dtype.itemsize, )\n",
        "\n",
        "# для перехода к следующей строке нужно считать 8 байт\n",
        "# для перехода к следующему столбцу нужно прочитать 2 * 8 байт\n",
        "\n",
        "c.strides  # (8, 2 * 8)"
      ]
    },
    {
      "cell_type": "markdown",
      "metadata": {
        "id": "hcstjwC0EUNh"
      },
      "source": [
        "У массивов `numpy.ndarray` есть операция транспонирования. Она тоже _обычно_ **НЕ приводит** к копированию данных."
      ]
    },
    {
      "cell_type": "code",
      "execution_count": null,
      "metadata": {
        "id": "TqHq9RuuEUNh"
      },
      "outputs": [],
      "source": [
        "a.T"
      ]
    },
    {
      "cell_type": "code",
      "execution_count": null,
      "metadata": {
        "id": "zF0K-bRFEUNh"
      },
      "outputs": [],
      "source": [
        "a.transpose()"
      ]
    },
    {
      "cell_type": "markdown",
      "source": [
        "Почему я выше писал, что копирование \"_обычно_\" не происходит? Это зависит от того, к какой матрице вы применяете `reshape` или `transpose`:"
      ],
      "metadata": {
        "id": "iRxTqNsIwB5K"
      }
    },
    {
      "cell_type": "code",
      "source": [
        "c = np.arange(20).reshape(5, 4).copy()\n",
        "c\n"
      ],
      "metadata": {
        "colab": {
          "base_uri": "https://localhost:8080/"
        },
        "id": "nvutu8zqwKQ_",
        "outputId": "e35b50aa-27aa-4cd0-c542-e2503f1c05b2"
      },
      "execution_count": null,
      "outputs": [
        {
          "output_type": "execute_result",
          "data": {
            "text/plain": [
              "array([[ 0,  1,  2,  3],\n",
              "       [ 4,  5,  6,  7],\n",
              "       [ 8,  9, 10, 11],\n",
              "       [12, 13, 14, 15],\n",
              "       [16, 17, 18, 19]])"
            ]
          },
          "metadata": {},
          "execution_count": 71
        }
      ]
    },
    {
      "cell_type": "code",
      "source": [
        "c.T[-1, -1] = 100  # all right!\n",
        "c"
      ],
      "metadata": {
        "colab": {
          "base_uri": "https://localhost:8080/"
        },
        "id": "5ldFSNs4wczp",
        "outputId": "72ba84b5-1804-4ac3-fc5f-ee6efbbe13f8"
      },
      "execution_count": null,
      "outputs": [
        {
          "output_type": "execute_result",
          "data": {
            "text/plain": [
              "array([[  0,   1,   2,   3],\n",
              "       [  4,   5,   6,   7],\n",
              "       [  8,   9,  10,  11],\n",
              "       [ 12,  13,  14,  15],\n",
              "       [ 16,  17,  18, 100]])"
            ]
          },
          "metadata": {},
          "execution_count": 72
        }
      ]
    },
    {
      "cell_type": "code",
      "source": [
        "d = c.T.reshape(10, 2)\n",
        "d[-1, -1] = 200\n",
        "d"
      ],
      "metadata": {
        "colab": {
          "base_uri": "https://localhost:8080/"
        },
        "id": "eToN2JN0wn08",
        "outputId": "3ac6b621-9526-48b0-b57e-603535a940c9"
      },
      "execution_count": null,
      "outputs": [
        {
          "output_type": "execute_result",
          "data": {
            "text/plain": [
              "array([[  0,   4],\n",
              "       [  8,  12],\n",
              "       [ 16,   1],\n",
              "       [  5,   9],\n",
              "       [ 13,  17],\n",
              "       [  2,   6],\n",
              "       [ 10,  14],\n",
              "       [ 18,   3],\n",
              "       [  7,  11],\n",
              "       [ 15, 200]])"
            ]
          },
          "metadata": {},
          "execution_count": 73
        }
      ]
    },
    {
      "cell_type": "code",
      "source": [
        "c  # all... right?"
      ],
      "metadata": {
        "colab": {
          "base_uri": "https://localhost:8080/"
        },
        "id": "saEnfvOSxPKn",
        "outputId": "48688afe-c7c3-4272-a7d0-e178eb5829da"
      },
      "execution_count": null,
      "outputs": [
        {
          "output_type": "execute_result",
          "data": {
            "text/plain": [
              "array([[  0,   1,   2,   3],\n",
              "       [  4,   5,   6,   7],\n",
              "       [  8,   9,  10,  11],\n",
              "       [ 12,  13,  14,  15],\n",
              "       [ 16,  17,  18, 100]])"
            ]
          },
          "metadata": {},
          "execution_count": 74
        }
      ]
    },
    {
      "cell_type": "markdown",
      "source": [
        "Т.е. копирование иногда все же происходит, если NumPy не может выразить операцию через strides!"
      ],
      "metadata": {
        "id": "kGV_K4O-xCF4"
      }
    },
    {
      "cell_type": "markdown",
      "metadata": {
        "id": "fQe-NCVZEUNi"
      },
      "source": [
        "### Поэлементные бинарные операции"
      ]
    },
    {
      "cell_type": "code",
      "execution_count": null,
      "metadata": {
        "id": "VtWrIbxGEUNi",
        "colab": {
          "base_uri": "https://localhost:8080/"
        },
        "outputId": "50d11a7a-0cde-4cea-952f-0124d1b1531e"
      },
      "outputs": [
        {
          "output_type": "execute_result",
          "data": {
            "text/plain": [
              "array([[1, 0, 0, 0, 1],\n",
              "       [1, 0, 1, 0, 1]])"
            ]
          },
          "metadata": {},
          "execution_count": 75
        }
      ],
      "source": [
        "a = [[1, 0, 0, 0, 1], [1, 0, 1, 0, 1]]\n",
        "a = np.asarray(a)\n",
        "a"
      ]
    },
    {
      "cell_type": "code",
      "execution_count": null,
      "metadata": {
        "id": "8TnH6fltEUNj",
        "colab": {
          "base_uri": "https://localhost:8080/"
        },
        "outputId": "131c1654-5c9c-4eaf-f2b0-b2ab6ab6c5a8"
      },
      "outputs": [
        {
          "output_type": "execute_result",
          "data": {
            "text/plain": [
              "array([[ 1,  2,  3,  4,  5],\n",
              "       [ 6,  7,  8,  9, 10]])"
            ]
          },
          "metadata": {},
          "execution_count": 76
        }
      ],
      "source": [
        "b = np.arange(1, 11).reshape(-1, 5)\n",
        "b"
      ]
    },
    {
      "cell_type": "markdown",
      "metadata": {
        "id": "dDTEmVIGEUNj"
      },
      "source": [
        "Для начала рассмотрим массивы одинаковых размеров.\n",
        "\n",
        "`numpy.ndarray` поддерживает арифметические поэлементые операции над двумя массивами:\n",
        "\n",
        "`c = op(a, b)` $\\Longleftrightarrow$ `c[i,j] = op(a[i,j], b[i,j])`"
      ]
    },
    {
      "cell_type": "code",
      "execution_count": null,
      "metadata": {
        "id": "bfZzLKg3EUNj",
        "colab": {
          "base_uri": "https://localhost:8080/"
        },
        "outputId": "c8870cc6-075d-463e-d11e-fc3612da0c83"
      },
      "outputs": [
        {
          "output_type": "execute_result",
          "data": {
            "text/plain": [
              "array([[ 2,  2,  3,  4,  6],\n",
              "       [ 7,  7,  9,  9, 11]])"
            ]
          },
          "metadata": {},
          "execution_count": 77
        }
      ],
      "source": [
        "a + b"
      ]
    },
    {
      "cell_type": "code",
      "execution_count": null,
      "metadata": {
        "id": "3EDFSLaXEUNj",
        "colab": {
          "base_uri": "https://localhost:8080/"
        },
        "outputId": "11fadf98-4b0a-41de-e249-7add67d5cf6d"
      },
      "outputs": [
        {
          "output_type": "execute_result",
          "data": {
            "text/plain": [
              "array([[ 1,  0,  0,  0,  5],\n",
              "       [ 6,  0,  8,  0, 10]])"
            ]
          },
          "metadata": {},
          "execution_count": 78
        }
      ],
      "source": [
        "a * b"
      ]
    },
    {
      "cell_type": "markdown",
      "metadata": {
        "id": "nEJn24A-EUNj"
      },
      "source": [
        "И некоторые более сложные функции..."
      ]
    },
    {
      "cell_type": "code",
      "execution_count": null,
      "metadata": {
        "id": "e8uGkJXhEUNj",
        "colab": {
          "base_uri": "https://localhost:8080/"
        },
        "outputId": "8b5f8a19-7c25-4ac5-fdfc-c923251439b3"
      },
      "outputs": [
        {
          "output_type": "execute_result",
          "data": {
            "text/plain": [
              "array([[1, 1, 1, 1, 1],\n",
              "       [0, 0, 0, 0, 0]])"
            ]
          },
          "metadata": {},
          "execution_count": 79
        }
      ],
      "source": [
        "(b <= 5).astype(int)"
      ]
    },
    {
      "cell_type": "code",
      "execution_count": null,
      "metadata": {
        "id": "Th9Ta_NAEUNj",
        "colab": {
          "base_uri": "https://localhost:8080/"
        },
        "outputId": "df8cad34-bcdb-4d5c-8ddf-92c17ef7a12c"
      },
      "outputs": [
        {
          "output_type": "execute_result",
          "data": {
            "text/plain": [
              "array([[1, 1, 1, 1, 1],\n",
              "       [1, 0, 1, 0, 1]])"
            ]
          },
          "metadata": {},
          "execution_count": 80
        }
      ],
      "source": [
        "np.fmax(a, (b <= 5).astype(int))   # element-wise maximum"
      ]
    },
    {
      "cell_type": "markdown",
      "metadata": {
        "id": "-qfjH8h8EUNj"
      },
      "source": [
        "Есть и поддержка булевых операций."
      ]
    },
    {
      "cell_type": "code",
      "execution_count": null,
      "metadata": {
        "id": "Jl9GElS2EUNj",
        "colab": {
          "base_uri": "https://localhost:8080/"
        },
        "outputId": "8f48c97f-470f-44a5-b637-da1ca0e236f1"
      },
      "outputs": [
        {
          "output_type": "execute_result",
          "data": {
            "text/plain": [
              "array([[ True, False, False, False,  True],\n",
              "       [False,  True, False,  True, False]])"
            ]
          },
          "metadata": {},
          "execution_count": 81
        }
      ],
      "source": [
        "a == (b <= 5).astype(int)"
      ]
    },
    {
      "cell_type": "markdown",
      "metadata": {
        "id": "fLYkLkdgEUNj"
      },
      "source": [
        "Есть поддержка матричного умножения."
      ]
    },
    {
      "cell_type": "code",
      "execution_count": null,
      "metadata": {
        "id": "GatS9A6VEUNj",
        "colab": {
          "base_uri": "https://localhost:8080/"
        },
        "outputId": "ea626239-ec90-4e2a-b6cc-a6733da4a4bf"
      },
      "outputs": [
        {
          "output_type": "execute_result",
          "data": {
            "text/plain": [
              "array([[ 6, 16],\n",
              "       [ 9, 24]])"
            ]
          },
          "metadata": {},
          "execution_count": 82
        }
      ],
      "source": [
        "a @ b.T  # same as np.matmul(a, b.T)"
      ]
    },
    {
      "cell_type": "code",
      "execution_count": null,
      "metadata": {
        "id": "yrO1i1iNEUNj",
        "colab": {
          "base_uri": "https://localhost:8080/"
        },
        "outputId": "1b3a7bb3-1161-49b6-f7f0-66259c94cc60"
      },
      "outputs": [
        {
          "output_type": "execute_result",
          "data": {
            "text/plain": [
              "array([[ 6, 16],\n",
              "       [ 9, 24]])"
            ]
          },
          "metadata": {},
          "execution_count": 83
        }
      ],
      "source": [
        "np.dot(a, b.T)  # same as a.dot(b.T)"
      ]
    },
    {
      "cell_type": "markdown",
      "metadata": {
        "id": "RxUSolT4EUNj"
      },
      "source": [
        "### Приведение размерностей (Broadcasting)\n",
        "\n",
        "Пусть, нам дана матрица $X$ размером $5 \\times 10$ и вектор $y$ длины 10. Пусть, мы хотим прибавить вектор к каждой строке матрицы."
      ]
    },
    {
      "cell_type": "code",
      "execution_count": null,
      "metadata": {
        "id": "AFsIemoMEUNj",
        "colab": {
          "base_uri": "https://localhost:8080/"
        },
        "outputId": "92b13564-fe9e-43b8-af32-e6ddfdef7dc9"
      },
      "outputs": [
        {
          "output_type": "execute_result",
          "data": {
            "text/plain": [
              "array([[ 0,  1,  2,  3,  4,  5,  6,  7,  8,  9],\n",
              "       [10, 11, 12, 13, 14, 15, 16, 17, 18, 19],\n",
              "       [20, 21, 22, 23, 24, 25, 26, 27, 28, 29],\n",
              "       [30, 31, 32, 33, 34, 35, 36, 37, 38, 39],\n",
              "       [40, 41, 42, 43, 44, 45, 46, 47, 48, 49]])"
            ]
          },
          "metadata": {},
          "execution_count": 91
        }
      ],
      "source": [
        "x = np.arange(50).reshape(-1, 10)\n",
        "x"
      ]
    },
    {
      "cell_type": "code",
      "execution_count": null,
      "metadata": {
        "id": "R2oOAF6EEUNj",
        "colab": {
          "base_uri": "https://localhost:8080/"
        },
        "outputId": "fa1e68d1-f210-46b6-a269-318c49c49f6e"
      },
      "outputs": [
        {
          "output_type": "execute_result",
          "data": {
            "text/plain": [
              "array([0, 1, 2, 3, 4, 5, 6, 7, 8, 9])"
            ]
          },
          "metadata": {},
          "execution_count": 92
        }
      ],
      "source": [
        "y = np.arange(10)\n",
        "y"
      ]
    },
    {
      "cell_type": "code",
      "execution_count": null,
      "metadata": {
        "id": "VqgeXOJJEUNk",
        "colab": {
          "base_uri": "https://localhost:8080/"
        },
        "outputId": "358a4703-ca3f-4ef2-8c92-67a72f00bba2"
      },
      "outputs": [
        {
          "output_type": "execute_result",
          "data": {
            "text/plain": [
              "array([[  0,   1,   4,   9,  16,  25,  36,  49,  64,  81],\n",
              "       [  0,  11,  24,  39,  56,  75,  96, 119, 144, 171],\n",
              "       [  0,  21,  44,  69,  96, 125, 156, 189, 224, 261],\n",
              "       [  0,  31,  64,  99, 136, 175, 216, 259, 304, 351],\n",
              "       [  0,  41,  84, 129, 176, 225, 276, 329, 384, 441]])"
            ]
          },
          "metadata": {},
          "execution_count": 93
        }
      ],
      "source": [
        "x * y"
      ]
    },
    {
      "cell_type": "code",
      "execution_count": null,
      "metadata": {
        "id": "33qRJ1KnEUNk",
        "colab": {
          "base_uri": "https://localhost:8080/"
        },
        "outputId": "fa9eebd9-dae3-492d-8fd5-6d02296e6ed3"
      },
      "outputs": [
        {
          "output_type": "execute_result",
          "data": {
            "text/plain": [
              "array([[ 0,  2,  4,  6,  8, 10, 12, 14, 16, 18],\n",
              "       [10, 12, 14, 16, 18, 20, 22, 24, 26, 28],\n",
              "       [20, 22, 24, 26, 28, 30, 32, 34, 36, 38],\n",
              "       [30, 32, 34, 36, 38, 40, 42, 44, 46, 48],\n",
              "       [40, 42, 44, 46, 48, 50, 52, 54, 56, 58]])"
            ]
          },
          "metadata": {},
          "execution_count": 87
        }
      ],
      "source": [
        "x + y"
      ]
    },
    {
      "cell_type": "markdown",
      "metadata": {
        "id": "KwMdi3StEUNk"
      },
      "source": [
        "Наивный способ работает верно.\n",
        "\n",
        "Поменяем условие, пусть, $y$ – вектор длины 5. Пусть, мы хотим прибавить вектор к каждому столбцу матрицы."
      ]
    },
    {
      "cell_type": "code",
      "execution_count": null,
      "metadata": {
        "id": "N5CRm2UbEUNk"
      },
      "outputs": [],
      "source": [
        "y = np.arange(5)\n",
        "y"
      ]
    },
    {
      "cell_type": "code",
      "execution_count": null,
      "metadata": {
        "id": "yP5QNTgqEUNk"
      },
      "outputs": [],
      "source": [
        "x + y"
      ]
    },
    {
      "cell_type": "markdown",
      "metadata": {
        "id": "Jka60jRgEUNk"
      },
      "source": [
        "Наивный способ не работает. Попробуем воспользоваться приведением размерностей."
      ]
    },
    {
      "cell_type": "code",
      "execution_count": null,
      "metadata": {
        "id": "AM8Pz0p_EUNk"
      },
      "outputs": [],
      "source": [
        "y[:, np.newaxis].shape"
      ]
    },
    {
      "cell_type": "code",
      "execution_count": null,
      "metadata": {
        "id": "GRaKbmQEEUNk"
      },
      "outputs": [],
      "source": [
        "x + y[:, np.newaxis]  # same as x + y.reshape(-1, 1)"
      ]
    },
    {
      "cell_type": "markdown",
      "source": [
        "![numpy_broadcasting](https://data.bioml.ru/htdocs/courses/python/datasci/numpy/img/numpy_broadcasting.png)"
      ],
      "metadata": {
        "id": "wt0J1zincBug"
      }
    },
    {
      "cell_type": "markdown",
      "metadata": {
        "id": "OGwfwqJlEUNk"
      },
      "source": [
        "**Правило приведения размерностей (broadcasting):**\n",
        "1. Предположим, что `a.shape = (a_1, a_2, ..., a_n)` и `b.shape = (b_1, b_2, ..., b_n)`. Над `a` и `b` можно произвести поэлементую бинарную операцию, если $\\forall \\; i \\in \\overline{1..n}$ выполнено хотя бы одно из условий:\n",
        "    * `a_i == b_i`;\n",
        "    * `a_i == 1`;\n",
        "    * `b_i == 1`.\n",
        "\n",
        "\n",
        "2. Если размерности не совпадают, то к массиву меньшей размерности добавляются ведущие фиктивные размерности.\n",
        "\n",
        "Документация: https://docs.scipy.org/doc/numpy/user/basics.broadcasting.html\n",
        "\n",
        "Проверить явное приведение размерности можно через функции `np.broadcast_to` и `np.broadcast_arrays`."
      ]
    },
    {
      "cell_type": "markdown",
      "metadata": {
        "id": "BlJtoYVcEUNk"
      },
      "source": [
        "<font color='red'>**Задача 4.**</font> Какие из этих команд будут выполняться с ошибкой? <font color='lightgrey'>А где третья задача?</font>\n",
        "\n",
        "1. `np.ones((2, 3)) + np.ones(3)`\n",
        "\n",
        "2. `np.ones(2) + np.ones((2, 3))`\n",
        "\n",
        "3. `np.zeros((4, 3)) + np.ones((4, 1))`\n",
        "\n",
        "4. `np.zeros((3, 4)) + np.ones((4, 3))`\n",
        "\n",
        "5. `np.zeros((1, 3, 5)) + np.zeros((1, 3))`\n",
        "\n",
        "6. `np.zeros((5, 3, 1)) + np.zeros((1, 5))`"
      ]
    },
    {
      "cell_type": "code",
      "source": [
        "np.ones((2, 3)) + np.ones(3)"
      ],
      "metadata": {
        "colab": {
          "base_uri": "https://localhost:8080/"
        },
        "id": "deYhWHia29iz",
        "outputId": "c48d8f0a-2525-45bf-8288-13f4b65c6122"
      },
      "execution_count": null,
      "outputs": [
        {
          "output_type": "execute_result",
          "data": {
            "text/plain": [
              "array([[2., 2., 2.],\n",
              "       [2., 2., 2.]])"
            ]
          },
          "metadata": {},
          "execution_count": 95
        }
      ]
    },
    {
      "cell_type": "markdown",
      "metadata": {
        "id": "t6PjA8fZEUNk"
      },
      "source": [
        "<font color='red'>**Задача 5.**</font> Таблица умножения. Создайте массив $9 \\times 9$, элементы которого являются произведениями индексов столбца и строки. Индексы нумеруются с 1."
      ]
    },
    {
      "cell_type": "code",
      "execution_count": null,
      "metadata": {
        "id": "uVyuaNPtEUNk"
      },
      "outputs": [],
      "source": [
        "# your code here\n",
        "\n",
        "mult_table = None"
      ]
    },
    {
      "cell_type": "code",
      "source": [
        "np.arange(5) @ np.arange(5)"
      ],
      "metadata": {
        "colab": {
          "base_uri": "https://localhost:8080/"
        },
        "id": "QeXXMhvb4DNm",
        "outputId": "8bab1412-4449-4b07-d452-201ee5ed803e"
      },
      "execution_count": null,
      "outputs": [
        {
          "output_type": "execute_result",
          "data": {
            "text/plain": [
              "np.int64(30)"
            ]
          },
          "metadata": {},
          "execution_count": 105
        }
      ]
    },
    {
      "cell_type": "code",
      "source": [
        "np.einsum"
      ],
      "metadata": {
        "colab": {
          "base_uri": "https://localhost:8080/"
        },
        "id": "lacd-hi04Mpy",
        "outputId": "c5ca17d6-9e96-4dcb-ab86-eb39b7cd7584"
      },
      "execution_count": null,
      "outputs": [
        {
          "output_type": "execute_result",
          "data": {
            "text/plain": [
              "<function einsum at 0x7def3aa01230>"
            ]
          },
          "metadata": {},
          "execution_count": 106
        }
      ]
    },
    {
      "cell_type": "code",
      "source": [
        "col = np.arange(1, 10).reshape(-1, 1)\n",
        "row = np.arange(1, 10).reshape(1, -1)\n",
        "col * row"
      ],
      "metadata": {
        "colab": {
          "base_uri": "https://localhost:8080/"
        },
        "id": "DDUw6W3p3i6m",
        "outputId": "20758260-14bd-465e-dbc4-dfc7da175906"
      },
      "execution_count": null,
      "outputs": [
        {
          "output_type": "execute_result",
          "data": {
            "text/plain": [
              "array([[ 1,  2,  3,  4,  5,  6,  7,  8,  9],\n",
              "       [ 2,  4,  6,  8, 10, 12, 14, 16, 18],\n",
              "       [ 3,  6,  9, 12, 15, 18, 21, 24, 27],\n",
              "       [ 4,  8, 12, 16, 20, 24, 28, 32, 36],\n",
              "       [ 5, 10, 15, 20, 25, 30, 35, 40, 45],\n",
              "       [ 6, 12, 18, 24, 30, 36, 42, 48, 54],\n",
              "       [ 7, 14, 21, 28, 35, 42, 49, 56, 63],\n",
              "       [ 8, 16, 24, 32, 40, 48, 56, 64, 72],\n",
              "       [ 9, 18, 27, 36, 45, 54, 63, 72, 81]])"
            ]
          },
          "metadata": {},
          "execution_count": 111
        }
      ]
    },
    {
      "cell_type": "code",
      "execution_count": null,
      "metadata": {
        "id": "-KPU8BaXEUNk"
      },
      "outputs": [],
      "source": [
        "mult_table"
      ]
    },
    {
      "cell_type": "code",
      "execution_count": null,
      "metadata": {
        "id": "LqZTb9S8EUNl"
      },
      "outputs": [],
      "source": [
        "assert mult_table.shape == (9, 9)\n",
        "\n",
        "for i in range(mult_table.shape[0]):\n",
        "    for j in range(mult_table.shape[0]):\n",
        "        assert mult_table[i, j] == (i + 1) * (j + 1)"
      ]
    },
    {
      "cell_type": "markdown",
      "metadata": {
        "id": "Z6-yc2kIEUNl"
      },
      "source": [
        "### Операции над булевыми массивами"
      ]
    },
    {
      "cell_type": "code",
      "execution_count": null,
      "metadata": {
        "id": "xF68rGgJEUNl",
        "colab": {
          "base_uri": "https://localhost:8080/"
        },
        "outputId": "5bdf94bf-694b-4250-f51f-7f902e297aac"
      },
      "outputs": [
        {
          "output_type": "execute_result",
          "data": {
            "text/plain": [
              "(array([ True,  True, False, False,  True]),\n",
              " array([ True, False, False,  True, False]))"
            ]
          },
          "metadata": {},
          "execution_count": 113
        }
      ],
      "source": [
        "a = np.asarray([ True,  True, False, False,  True])\n",
        "b = np.asarray([ True, False, False,  True, False])\n",
        "c = np.asarray([False,  False, True,  True, False])\n",
        "\n",
        "a, b"
      ]
    },
    {
      "cell_type": "code",
      "execution_count": null,
      "metadata": {
        "id": "lMvmFMPCEUNl",
        "colab": {
          "base_uri": "https://localhost:8080/"
        },
        "outputId": "9b1af5be-06a9-4ae4-a3ee-6bc2fb55f0fa"
      },
      "outputs": [
        {
          "output_type": "execute_result",
          "data": {
            "text/plain": [
              "array([False, False,  True,  True, False])"
            ]
          },
          "metadata": {},
          "execution_count": 114
        }
      ],
      "source": [
        "np.logical_not(a)"
      ]
    },
    {
      "cell_type": "code",
      "execution_count": null,
      "metadata": {
        "id": "lydNxJU4EUNl",
        "colab": {
          "base_uri": "https://localhost:8080/"
        },
        "outputId": "4477c19b-bfab-4267-a108-bf354d1aa138"
      },
      "outputs": [
        {
          "output_type": "execute_result",
          "data": {
            "text/plain": [
              "array([False, False,  True,  True, False])"
            ]
          },
          "metadata": {},
          "execution_count": 115
        }
      ],
      "source": [
        "~a   # same as np.bitwise_not(a)"
      ]
    },
    {
      "cell_type": "code",
      "execution_count": null,
      "metadata": {
        "id": "0Fh2HmqMEUNl",
        "colab": {
          "base_uri": "https://localhost:8080/"
        },
        "outputId": "cc190e83-904e-4ac1-938b-65eede473529"
      },
      "outputs": [
        {
          "output_type": "execute_result",
          "data": {
            "text/plain": [
              "(array([ True, False, False, False, False]),\n",
              " array([ True,  True, False,  True,  True]),\n",
              " array([False,  True, False,  True,  True]))"
            ]
          },
          "metadata": {},
          "execution_count": 116
        }
      ],
      "source": [
        "np.logical_and(a, b), np.logical_or(a, b), np.logical_xor(a, b)"
      ]
    },
    {
      "cell_type": "code",
      "execution_count": null,
      "metadata": {
        "id": "xM34N2uSEUNl",
        "colab": {
          "base_uri": "https://localhost:8080/"
        },
        "outputId": "77162479-3b73-4548-c077-719c215ef9bb"
      },
      "outputs": [
        {
          "output_type": "execute_result",
          "data": {
            "text/plain": [
              "(array([ True, False, False, False, False]),\n",
              " array([ True,  True, False,  True,  True]),\n",
              " array([False,  True, False,  True,  True]))"
            ]
          },
          "metadata": {},
          "execution_count": 117
        }
      ],
      "source": [
        "(\n",
        "    a & b,  # same as np.bitwise_and(a, b)\n",
        "    a | b,  # same as np.bitwise_or(a, b)\n",
        "    a ^ b,  # same as np.bitwise_xor(a, b)\n",
        ")"
      ]
    },
    {
      "cell_type": "code",
      "execution_count": null,
      "metadata": {
        "id": "aYmWTKoQEUNl",
        "colab": {
          "base_uri": "https://localhost:8080/"
        },
        "outputId": "50252ef2-c931-46ea-d2c7-702aae124a34"
      },
      "outputs": [
        {
          "output_type": "execute_result",
          "data": {
            "text/plain": [
              "array([ True, False,  True,  True, False])"
            ]
          },
          "metadata": {},
          "execution_count": 118
        }
      ],
      "source": [
        "(a & b) | c"
      ]
    },
    {
      "cell_type": "markdown",
      "source": [
        "<font color='red'>**Не используйте**</font> стандартные Python-операторы `and`, `or`, `not` вместе с NumPy-массивами. О причине этого - позже.\n",
        "\n",
        "То же самое относится к функциям `sum`, `any`, `all` и некоторым другим стандартным агрегирующим функциям. Кстати, о них:"
      ],
      "metadata": {
        "id": "dXt0R9lB3Twa"
      }
    },
    {
      "cell_type": "markdown",
      "metadata": {
        "id": "dhxT-BHbEUNl"
      },
      "source": [
        "### Агрегирующие операции"
      ]
    },
    {
      "cell_type": "code",
      "execution_count": null,
      "metadata": {
        "id": "i14mz1JdEUNl",
        "colab": {
          "base_uri": "https://localhost:8080/"
        },
        "outputId": "f0702bfa-2e3b-439a-f507-3bfab059df44"
      },
      "outputs": [
        {
          "output_type": "execute_result",
          "data": {
            "text/plain": [
              "array([[ 2,  3,  0,  5,  2,  0,  3],\n",
              "       [ 8,  8,  0, 15,  1,  5,  3],\n",
              "       [ 0,  1,  6,  2,  1,  4,  5]])"
            ]
          },
          "metadata": {},
          "execution_count": 119
        }
      ],
      "source": [
        "np.random.seed(5555)\n",
        "\n",
        "a = np.random.randint(0, 10, size=(3, 7), )\n",
        "a[1, 3] = 15\n",
        "\n",
        "a"
      ]
    },
    {
      "cell_type": "markdown",
      "metadata": {
        "id": "jFl65SfuEUNl"
      },
      "source": [
        "Для `numpy.ndarray` есть поддержка аггрегирующих операций: `min`, `max`, `argmin`, `argmax`, `sum`, `prod`, `mean`, `std`, `var` и др."
      ]
    },
    {
      "cell_type": "code",
      "execution_count": null,
      "metadata": {
        "id": "zx_hac9IEUNl",
        "colab": {
          "base_uri": "https://localhost:8080/"
        },
        "outputId": "ca138509-b88f-4077-86dc-afc8b8874962"
      },
      "outputs": [
        {
          "output_type": "execute_result",
          "data": {
            "text/plain": [
              "(np.int64(0),\n",
              " np.int64(15),\n",
              " np.int64(74),\n",
              " np.int64(0),\n",
              " np.float64(3.5238095238095237))"
            ]
          },
          "metadata": {},
          "execution_count": 120
        }
      ],
      "source": [
        "a.min(), a.max(), a.sum(), a.prod(), a.mean()"
      ]
    },
    {
      "cell_type": "code",
      "execution_count": null,
      "metadata": {
        "id": "Ajrs1ZS5EUNl",
        "colab": {
          "base_uri": "https://localhost:8080/"
        },
        "outputId": "3fb82cbc-be59-42e6-bc61-e50579902709"
      },
      "outputs": [
        {
          "output_type": "execute_result",
          "data": {
            "text/plain": [
              "(np.int64(0),\n",
              " np.int64(15),\n",
              " np.int64(74),\n",
              " np.int64(0),\n",
              " np.float64(3.5238095238095237))"
            ]
          },
          "metadata": {},
          "execution_count": 121
        }
      ],
      "source": [
        "np.min(a), np.max(a), np.sum(a), np.prod(a), np.mean(a)"
      ]
    },
    {
      "cell_type": "markdown",
      "metadata": {
        "id": "eQEdW724EUNl"
      },
      "source": [
        "<img src=\"https://data.bioml.ru/htdocs/courses/python/datasci/numpy/img/numpy_axes.png\" width=\"350px\">\n",
        "\n",
        "`a.agg(axis=axis)` – агрегирующая операция вдоль размерности (оси) `axis`:\n",
        "* выполняет редукцию (агрегирующую операцию) по размерности (оси) `axis`;\n",
        "* удаляет размерности (ось) `axis` из исходного массива (аргумент `keep_dims=False`).\n",
        "\n",
        "`axis=0` – размерность строк, `axis=1` – размерность столбцов."
      ]
    },
    {
      "cell_type": "code",
      "source": [
        "a"
      ],
      "metadata": {
        "colab": {
          "base_uri": "https://localhost:8080/"
        },
        "id": "L5WpWLCb5ZYK",
        "outputId": "71feba41-e574-46b9-8570-c4d319349ebd"
      },
      "execution_count": null,
      "outputs": [
        {
          "output_type": "execute_result",
          "data": {
            "text/plain": [
              "array([[ 2,  3,  0,  5,  2,  0,  3],\n",
              "       [ 8,  8,  0, 15,  1,  5,  3],\n",
              "       [ 0,  1,  6,  2,  1,  4,  5]])"
            ]
          },
          "metadata": {},
          "execution_count": 125
        }
      ]
    },
    {
      "cell_type": "code",
      "execution_count": null,
      "metadata": {
        "id": "2K41VdTAEUNm",
        "colab": {
          "base_uri": "https://localhost:8080/"
        },
        "outputId": "57fa6ea7-d56d-4c08-b154-4b5c703d62f9"
      },
      "outputs": [
        {
          "output_type": "execute_result",
          "data": {
            "text/plain": [
              "array([0, 1, 0, 2, 1, 0, 3])"
            ]
          },
          "metadata": {},
          "execution_count": 122
        }
      ],
      "source": [
        "a.min(axis=0)"
      ]
    },
    {
      "cell_type": "code",
      "execution_count": null,
      "metadata": {
        "id": "aC8yBSPKEUNm",
        "colab": {
          "base_uri": "https://localhost:8080/"
        },
        "outputId": "58f4663f-e70e-4176-cd43-a1d883e7e565"
      },
      "outputs": [
        {
          "output_type": "execute_result",
          "data": {
            "text/plain": [
              "array([15, 40, 19])"
            ]
          },
          "metadata": {},
          "execution_count": 123
        }
      ],
      "source": [
        "a.sum(axis=1)"
      ]
    },
    {
      "cell_type": "code",
      "execution_count": null,
      "metadata": {
        "id": "NZNBwu4cEUNm",
        "colab": {
          "base_uri": "https://localhost:8080/"
        },
        "outputId": "d1b32df1-2416-4ee1-fa56-29c9531dee59"
      },
      "outputs": [
        {
          "output_type": "execute_result",
          "data": {
            "text/plain": [
              "array([3, 3, 2])"
            ]
          },
          "metadata": {},
          "execution_count": 124
        }
      ],
      "source": [
        "a.argmax(axis=1)"
      ]
    },
    {
      "cell_type": "markdown",
      "metadata": {
        "id": "yosvuNazEUNm"
      },
      "source": [
        "Для сравнения чисел с плавающей точкой **НУЖНО** использовать `close`."
      ]
    },
    {
      "cell_type": "code",
      "execution_count": null,
      "metadata": {
        "id": "2frfDx51EUNm"
      },
      "outputs": [],
      "source": [
        "np.random.seed(4987)\n",
        "\n",
        "a = np.random.random(size=(2, 5))\n",
        "b = a + np.random.random(size=(2, 5)) * 1e-5"
      ]
    },
    {
      "cell_type": "code",
      "execution_count": null,
      "metadata": {
        "id": "ANjUzN_uEUNm",
        "colab": {
          "base_uri": "https://localhost:8080/"
        },
        "outputId": "7dfa9631-ff64-4a27-9f5c-14f69838613f"
      },
      "outputs": [
        {
          "output_type": "execute_result",
          "data": {
            "text/plain": [
              "np.False_"
            ]
          },
          "metadata": {},
          "execution_count": 3
        }
      ],
      "source": [
        "np.isclose(a, b).all()"
      ]
    },
    {
      "cell_type": "code",
      "execution_count": null,
      "metadata": {
        "id": "CWpyY-zoEUNm",
        "colab": {
          "base_uri": "https://localhost:8080/"
        },
        "outputId": "3bdd63a5-3ba6-48af-f507-5f4ae905cdf0"
      },
      "outputs": [
        {
          "output_type": "execute_result",
          "data": {
            "text/plain": [
              "np.True_"
            ]
          },
          "metadata": {},
          "execution_count": 4
        }
      ],
      "source": [
        "np.isclose(a, b, atol=1e-3).all()"
      ]
    },
    {
      "cell_type": "markdown",
      "metadata": {
        "id": "TBUEQBPzEUNm"
      },
      "source": [
        "**Не используйте** встроенные агрегирующие операции python.\n",
        "\n",
        "Первая причина – это скорость."
      ]
    },
    {
      "cell_type": "code",
      "execution_count": null,
      "metadata": {
        "id": "r5Q2Vm7qEUNm"
      },
      "outputs": [],
      "source": [
        "b = np.random.randint(0, 10, size=(1_000, 1_000))\n",
        "b[36, 42] = 20\n",
        "b = b.ravel()"
      ]
    },
    {
      "cell_type": "code",
      "execution_count": null,
      "metadata": {
        "id": "A3nuBbRlEUNm"
      },
      "outputs": [],
      "source": [
        "%%timeit\n",
        "\n",
        "b.max()"
      ]
    },
    {
      "cell_type": "code",
      "execution_count": null,
      "metadata": {
        "id": "dwuW-f3jEUNm"
      },
      "outputs": [],
      "source": [
        "%%timeit\n",
        "\n",
        "max(b)"
      ]
    },
    {
      "cell_type": "markdown",
      "metadata": {
        "id": "Aq2F16l1EUNm"
      },
      "source": [
        "Вторая причина – не совсем очевидное поведение."
      ]
    },
    {
      "cell_type": "code",
      "execution_count": null,
      "metadata": {
        "id": "t0IXStqMEUNn",
        "colab": {
          "base_uri": "https://localhost:8080/"
        },
        "outputId": "9511f967-7df1-44dc-d98e-4aaf9f10e896"
      },
      "outputs": [
        {
          "output_type": "execute_result",
          "data": {
            "text/plain": [
              "array([10, 12,  6, 22,  4,  9, 11])"
            ]
          },
          "metadata": {},
          "execution_count": 127
        }
      ],
      "source": [
        "sum(a)  # same as a.sum(axis=0)"
      ]
    },
    {
      "cell_type": "markdown",
      "metadata": {
        "id": "YBzDjtgGEUNn"
      },
      "source": [
        "Над булевыми массивами можно совершать агрегирующие логические операции."
      ]
    },
    {
      "cell_type": "code",
      "execution_count": null,
      "metadata": {
        "id": "TUbcbDsgEUNn"
      },
      "outputs": [],
      "source": [
        "a = np.asarray([[True, True,  False, False, True ],\n",
        "                [True, False, False, True,  False]])\n",
        "a"
      ]
    },
    {
      "cell_type": "code",
      "execution_count": null,
      "metadata": {
        "id": "eg0bubVXEUNn"
      },
      "outputs": [],
      "source": [
        "a.all(), np.all(a)"
      ]
    },
    {
      "cell_type": "code",
      "execution_count": null,
      "metadata": {
        "id": "ss5ioM6yEUNn"
      },
      "outputs": [],
      "source": [
        "a.any(), np.any(a)"
      ]
    },
    {
      "cell_type": "code",
      "execution_count": null,
      "metadata": {
        "id": "qb5g6hj0EUNn"
      },
      "outputs": [],
      "source": [
        "a.all(axis=0)"
      ]
    },
    {
      "cell_type": "code",
      "execution_count": null,
      "metadata": {
        "id": "84i3EEtbEUNn"
      },
      "outputs": [],
      "source": [
        "a.any(axis=0)"
      ]
    },
    {
      "cell_type": "markdown",
      "metadata": {
        "id": "zJ-hc80cEUNn"
      },
      "source": [
        "### Индексация\n",
        "\n",
        "Подробное описание: https://docs.scipy.org/doc/numpy/reference/arrays.indexing.html\n",
        "\n",
        "**Замечание:** индексация может быть использована не только для получения значений, но и для их присвоения."
      ]
    },
    {
      "cell_type": "markdown",
      "source": [
        "![numpy_indexing](https://data.bioml.ru/htdocs/courses/python/datasci/numpy/img/numpy_indexing.png)"
      ],
      "metadata": {
        "id": "4VDpXaz24GTB"
      }
    },
    {
      "cell_type": "code",
      "execution_count": null,
      "metadata": {
        "id": "BiOg9jv_EUNn",
        "colab": {
          "base_uri": "https://localhost:8080/"
        },
        "outputId": "c851f0f7-e535-4174-f351-0c8c23eefd72"
      },
      "outputs": [
        {
          "output_type": "execute_result",
          "data": {
            "text/plain": [
              "array([[ 0,  1,  2,  3],\n",
              "       [ 4,  5,  6,  7],\n",
              "       [ 8,  9, 10, 11]])"
            ]
          },
          "metadata": {},
          "execution_count": 128
        }
      ],
      "source": [
        "a = np.arange(12).reshape(3, -1)\n",
        "a"
      ]
    },
    {
      "cell_type": "markdown",
      "metadata": {
        "id": "RGZcACeDEUNn"
      },
      "source": [
        "`numpy.ndarray` поддерживает все те же способы индексации, что и обычный список. Сначала указываются строки, затем столбцы. При индексации исключительно по строкам, индексацию по столбцам можно опустить."
      ]
    },
    {
      "cell_type": "code",
      "execution_count": null,
      "metadata": {
        "id": "0GtqUYJ-EUNn",
        "colab": {
          "base_uri": "https://localhost:8080/"
        },
        "outputId": "f4bdbd91-7c16-464f-dd0d-826b668f9cd5"
      },
      "outputs": [
        {
          "output_type": "execute_result",
          "data": {
            "text/plain": [
              "array([0, 1, 2, 3])"
            ]
          },
          "metadata": {},
          "execution_count": 129
        }
      ],
      "source": [
        "a[0]  # заметьте, исчезла фиктивная размерность  # same as a[0, :]"
      ]
    },
    {
      "cell_type": "code",
      "execution_count": null,
      "metadata": {
        "id": "BaqUATMsEUNn",
        "colab": {
          "base_uri": "https://localhost:8080/"
        },
        "outputId": "74482c29-2cc5-4442-ea30-59b4703b5889"
      },
      "outputs": [
        {
          "output_type": "execute_result",
          "data": {
            "text/plain": [
              "array([[0, 1, 2, 3],\n",
              "       [4, 5, 6, 7]])"
            ]
          },
          "metadata": {},
          "execution_count": 130
        }
      ],
      "source": [
        "a[:2]  # same as a[:2, :]"
      ]
    },
    {
      "cell_type": "code",
      "execution_count": null,
      "metadata": {
        "id": "hO8f12n_EUNn",
        "colab": {
          "base_uri": "https://localhost:8080/"
        },
        "outputId": "85f581be-53b6-4d48-a10d-083d8d783a70"
      },
      "outputs": [
        {
          "output_type": "execute_result",
          "data": {
            "text/plain": [
              "array([0, 4, 8])"
            ]
          },
          "metadata": {},
          "execution_count": 131
        }
      ],
      "source": [
        "a[:, 0]  # и здесь тоже исчезла фиктивная размерность"
      ]
    },
    {
      "cell_type": "code",
      "execution_count": null,
      "metadata": {
        "id": "K6LogXJ3EUNn",
        "colab": {
          "base_uri": "https://localhost:8080/"
        },
        "outputId": "1627cc99-a8fc-47dd-a505-6db8b227ac89"
      },
      "outputs": [
        {
          "output_type": "execute_result",
          "data": {
            "text/plain": [
              "array([[0, 2],\n",
              "       [4, 6]])"
            ]
          },
          "metadata": {},
          "execution_count": 132
        }
      ],
      "source": [
        "a[:2, ::2]"
      ]
    },
    {
      "cell_type": "markdown",
      "source": [
        "**Сложная индексация (Fancy indexing)**\n",
        "\n",
        "![numpy_indexing_fancy](https://data.bioml.ru/htdocs/courses/python/datasci/numpy/img/numpy_indexing_fancy.png)"
      ],
      "metadata": {
        "id": "XWAJlzwAG4Ul"
      }
    },
    {
      "cell_type": "markdown",
      "metadata": {
        "id": "HtixlAfBEUNo"
      },
      "source": [
        "Булевы массивы также можно использовать для индексации. Такие массивы называются масками."
      ]
    },
    {
      "cell_type": "code",
      "execution_count": null,
      "metadata": {
        "id": "POgyyJUqEUNo"
      },
      "outputs": [],
      "source": [
        "np.random.seed(7964)\n",
        "\n",
        "A = np.random.randint(0, 8, size=(5, 5))\n",
        "A[2, 3] = 10\n",
        "A"
      ]
    },
    {
      "cell_type": "code",
      "execution_count": null,
      "metadata": {
        "id": "p4KaNe8NEUNo"
      },
      "outputs": [],
      "source": [
        "A[A < 4]"
      ]
    },
    {
      "cell_type": "markdown",
      "metadata": {
        "id": "rhXxprykEUNo"
      },
      "source": [
        "Маски можно создавать не для всей матрицы, а только для строк или столбцов."
      ]
    },
    {
      "cell_type": "code",
      "execution_count": null,
      "metadata": {
        "id": "ujzycDcfEUNo"
      },
      "outputs": [],
      "source": [
        "A[A[:,0] < 3,:]"
      ]
    },
    {
      "cell_type": "markdown",
      "metadata": {
        "id": "qTPDwUbYEUNo"
      },
      "source": [
        "Для получения индексов, где выполнено условие (значение истино) используеттся функция `np.where`. Результат этой функции можно использовать для индексации.\n",
        "\n",
        "Индексация по результату `np.where` является сложной индексацией (об этом ниже)."
      ]
    },
    {
      "cell_type": "code",
      "execution_count": null,
      "metadata": {
        "id": "QWh3Zm0PEUNo"
      },
      "outputs": [],
      "source": [
        "A"
      ]
    },
    {
      "cell_type": "code",
      "execution_count": null,
      "metadata": {
        "id": "bu-gwHQdEUNo"
      },
      "outputs": [],
      "source": [
        "np.where(A < 4)"
      ]
    },
    {
      "cell_type": "code",
      "execution_count": null,
      "metadata": {
        "id": "s-h9Vbh0EUNo"
      },
      "outputs": [],
      "source": [
        "A[np.where(A < 4)]"
      ]
    },
    {
      "cell_type": "markdown",
      "metadata": {
        "id": "XnmaeLh0EUNo"
      },
      "source": [
        "<font color='red'>**Задача 6.**</font> Даны матрицы $A$ размера $(n \\times d)$ и $B$ размера $(m \\times d)$. Напишите функцию `find_equal_lines(A, B)`, которая найдет в A все строки, содержащиеся в B. Не используйте циклы!"
      ]
    },
    {
      "cell_type": "code",
      "execution_count": null,
      "metadata": {
        "id": "qgTBuCYfEUNo"
      },
      "outputs": [],
      "source": [
        "A = np.array([\n",
        "    [1, 2, 3],\n",
        "    [1, 2, 1],\n",
        "    [4, 5, 6],\n",
        "    [1, 2, 1],\n",
        "])\n",
        "\n",
        "B = np.array([\n",
        "    [4, 5, 6],\n",
        "    [4, 5, 6],\n",
        "    [1, 2, 3],\n",
        "])"
      ]
    },
    {
      "cell_type": "code",
      "execution_count": null,
      "metadata": {
        "id": "zM48-MlwEUNo"
      },
      "outputs": [],
      "source": [
        "# your code here\n",
        "\n",
        "def find_equal_lines(A, B):\n",
        "    return"
      ]
    },
    {
      "cell_type": "code",
      "execution_count": null,
      "metadata": {
        "id": "zOqc1jt-EUNo"
      },
      "outputs": [],
      "source": [
        "indices = find_equal_lines(A, B)\n",
        "\n",
        "assert (indices == [0, 2]).all()"
      ]
    },
    {
      "cell_type": "markdown",
      "metadata": {
        "id": "OjYvrdcAEUNo"
      },
      "source": [
        "<font color='red'>**Задача 7.**</font> Дана матрица $B$ размера $(5 \\times 5)$. Получите столбцы, в которых число положительных элементов больше числа отрицательных. Результат сохраните в переменную `B_masked`. Используйте индексацию с использованием булевых массивов."
      ]
    },
    {
      "cell_type": "code",
      "execution_count": null,
      "metadata": {
        "id": "khVdrNEbEUNp"
      },
      "outputs": [],
      "source": [
        "np.random.seed(2238)\n",
        "\n",
        "B = np.random.randint(-5, 5, size=(5, 5))\n",
        "B"
      ]
    },
    {
      "cell_type": "code",
      "execution_count": null,
      "metadata": {
        "id": "oorcwYfBEUNp"
      },
      "outputs": [],
      "source": [
        "# your code here\n",
        "\n",
        "B_masked = None"
      ]
    },
    {
      "cell_type": "code",
      "execution_count": null,
      "metadata": {
        "id": "td31o543EUNp"
      },
      "outputs": [],
      "source": [
        "assert (B_masked == B[:, [0, 1, -1]]).all()"
      ]
    },
    {
      "cell_type": "markdown",
      "metadata": {
        "id": "ics3UPrqEUNp"
      },
      "source": [
        "В массиве `numpy.ndarray` можно выбрать значения, стоящие в нескольких (более 1) конкретных строках ИЛИ столбцах."
      ]
    },
    {
      "cell_type": "code",
      "execution_count": null,
      "metadata": {
        "id": "ak7YfvTDEUNp"
      },
      "outputs": [],
      "source": [
        "np.random.seed(7964)\n",
        "\n",
        "A = np.random.randint(0, 8, size=(5, 5))\n",
        "A[2, 3] = 10\n",
        "A"
      ]
    },
    {
      "cell_type": "code",
      "execution_count": null,
      "metadata": {
        "id": "_0A9m8_UEUNp"
      },
      "outputs": [],
      "source": [
        "A[[1, 3, 4],:]"
      ]
    },
    {
      "cell_type": "markdown",
      "metadata": {
        "id": "6fnNEagjEUNp"
      },
      "source": [
        "По каждой размерности подаются массивы одинаковых размеров, элементы которых соответствуют индексам каждой размерности. Тогда, на выходе будет массив размера этих массивов, элементы которого будут соответствовать элементам исходного массива, взятых в точках, соответствующих поданным массивам."
      ]
    },
    {
      "cell_type": "code",
      "execution_count": null,
      "metadata": {
        "id": "Go8kcbZ9EUNp"
      },
      "outputs": [],
      "source": [
        "A[[0, 1, 1], [2, 1, 2]]"
      ]
    },
    {
      "cell_type": "markdown",
      "metadata": {
        "id": "3dgEcH2cEUNp"
      },
      "source": [
        "Если требуется взять значения, стоящие в определенных строках и столбцах, то для этого можно использовать функцию `np.ix_`."
      ]
    },
    {
      "cell_type": "code",
      "execution_count": null,
      "metadata": {
        "id": "Q3gfDYIDEUNp"
      },
      "outputs": [],
      "source": [
        "A[np.ix_([2, 4, 3], [0, -1])]"
      ]
    },
    {
      "cell_type": "markdown",
      "metadata": {
        "id": "RhTJPcSvEUNp"
      },
      "source": [
        "**Разница между view и копированием**\n",
        "\n",
        "<img src='https://data.bioml.ru/htdocs/courses/python/datasci/numpy/img/view_vs_copy.png' width=500 />\n",
        "\n",
        "При некоторых видах операций индексации, транспонирования, изменения размеров и т.п. получается view (новый объект, который ссылается на те же данные), в других – копия.\n",
        "\n",
        "Поподробнее об этом можно прочитать тут:\n",
        "\n",
        "https://numpy.org/doc/stable/user/basics.copies.html"
      ]
    },
    {
      "cell_type": "code",
      "source": [
        "a = np.array([[1, 2, 3, 4, 5],\n",
        "              [6, 7, 8, 9, 0]],\n",
        "             dtype=float)\n",
        "a"
      ],
      "metadata": {
        "colab": {
          "base_uri": "https://localhost:8080/"
        },
        "id": "a0LMv23L17rG",
        "outputId": "626caf90-01a7-4e56-c2ef-98516b3bfd31"
      },
      "execution_count": null,
      "outputs": [
        {
          "output_type": "execute_result",
          "data": {
            "text/plain": [
              "array([[1., 2., 3., 4., 5.],\n",
              "       [6., 7., 8., 9., 0.]])"
            ]
          },
          "metadata": {},
          "execution_count": 133
        }
      ]
    },
    {
      "cell_type": "code",
      "source": [
        "b = a.view()\n",
        "b"
      ],
      "metadata": {
        "colab": {
          "base_uri": "https://localhost:8080/"
        },
        "id": "C0O3GwDE1f-2",
        "outputId": "5c01f584-5c9a-457d-d155-ee5a11ab11e8"
      },
      "execution_count": null,
      "outputs": [
        {
          "output_type": "execute_result",
          "data": {
            "text/plain": [
              "array([[1., 2., 3., 4., 5.],\n",
              "       [6., 7., 8., 9., 0.]])"
            ]
          },
          "metadata": {},
          "execution_count": 134
        }
      ]
    },
    {
      "cell_type": "code",
      "source": [
        "b[1, 1] = 99.0\n",
        "b"
      ],
      "metadata": {
        "colab": {
          "base_uri": "https://localhost:8080/"
        },
        "id": "uJki5yI619Gl",
        "outputId": "13899f22-d35b-4af2-b60f-1f5ab18bbbb5"
      },
      "execution_count": null,
      "outputs": [
        {
          "output_type": "execute_result",
          "data": {
            "text/plain": [
              "array([[ 1.,  2.,  3.,  4.,  5.],\n",
              "       [ 6., 99.,  8.,  9.,  0.]])"
            ]
          },
          "metadata": {},
          "execution_count": 135
        }
      ]
    },
    {
      "cell_type": "code",
      "source": [
        "a"
      ],
      "metadata": {
        "colab": {
          "base_uri": "https://localhost:8080/"
        },
        "id": "6pbDbGAm2CB4",
        "outputId": "e10f2089-d83e-4962-d6ba-971fd6a14b4f"
      },
      "execution_count": null,
      "outputs": [
        {
          "output_type": "execute_result",
          "data": {
            "text/plain": [
              "array([[ 1.,  2.,  3.,  4.,  5.],\n",
              "       [ 6., 99.,  8.,  9.,  0.]])"
            ]
          },
          "metadata": {},
          "execution_count": 136
        }
      ]
    },
    {
      "cell_type": "code",
      "source": [
        "b = a.view(dtype=np.uint8)  # views memory as different data type\n",
        "b"
      ],
      "metadata": {
        "colab": {
          "base_uri": "https://localhost:8080/"
        },
        "id": "9_5gYpxl0_Jy",
        "outputId": "94d3ca9d-dbf3-48ce-ffe6-67fdf8a3aad0"
      },
      "execution_count": null,
      "outputs": [
        {
          "output_type": "execute_result",
          "data": {
            "text/plain": [
              "array([[  0,   0,   0,   0,   0,   0, 240,  63,   0,   0,   0,   0,   0,\n",
              "          0,   0,  64,   0,   0,   0,   0,   0,   0,   8,  64,   0,   0,\n",
              "          0,   0,   0,   0,  16,  64,   0,   0,   0,   0,   0,   0,  20,\n",
              "         64],\n",
              "       [  0,   0,   0,   0,   0,   0,  24,  64,   0,   0,   0,   0,   0,\n",
              "        192,  88,  64,   0,   0,   0,   0,   0,   0,  32,  64,   0,   0,\n",
              "          0,   0,   0,   0,  34,  64,   0,   0,   0,   0,   0,   0,   0,\n",
              "          0]], dtype=uint8)"
            ]
          },
          "metadata": {},
          "execution_count": 137
        }
      ]
    },
    {
      "cell_type": "code",
      "source": [
        "b[0, -1] = 65\n",
        "b"
      ],
      "metadata": {
        "colab": {
          "base_uri": "https://localhost:8080/"
        },
        "id": "2av4ymqw2Gxe",
        "outputId": "3eee96a4-3af7-41d3-f29d-0c166b5f310d"
      },
      "execution_count": null,
      "outputs": [
        {
          "output_type": "execute_result",
          "data": {
            "text/plain": [
              "array([[  0,   0,   0,   0,   0,   0, 240,  63,   0,   0,   0,   0,   0,\n",
              "          0,   0,  64,   0,   0,   0,   0,   0,   0,   8,  64,   0,   0,\n",
              "          0,   0,   0,   0,  16,  64,   0,   0,   0,   0,   0,   0,  20,\n",
              "         65],\n",
              "       [  0,   0,   0,   0,   0,   0,  24,  64,   0,   0,   0,   0,   0,\n",
              "        192,  88,  64,   0,   0,   0,   0,   0,   0,  32,  64,   0,   0,\n",
              "          0,   0,   0,   0,  34,  64,   0,   0,   0,   0,   0,   0,   0,\n",
              "          0]], dtype=uint8)"
            ]
          },
          "metadata": {},
          "execution_count": 138
        }
      ]
    },
    {
      "cell_type": "code",
      "source": [
        "a"
      ],
      "metadata": {
        "colab": {
          "base_uri": "https://localhost:8080/"
        },
        "id": "q2z6sd1z2Koz",
        "outputId": "f12765a4-a285-40c9-f215-a29a970da23b"
      },
      "execution_count": null,
      "outputs": [
        {
          "output_type": "execute_result",
          "data": {
            "text/plain": [
              "array([[1.0000e+00, 2.0000e+00, 3.0000e+00, 4.0000e+00, 3.2768e+05],\n",
              "       [6.0000e+00, 9.9000e+01, 8.0000e+00, 9.0000e+00, 0.0000e+00]])"
            ]
          },
          "metadata": {},
          "execution_count": 139
        }
      ]
    },
    {
      "cell_type": "markdown",
      "metadata": {
        "id": "-C9-B_y-EUNp"
      },
      "source": [
        "### Конкатенация массивов"
      ]
    },
    {
      "cell_type": "code",
      "execution_count": null,
      "metadata": {
        "id": "qAb7xEY0EUNp"
      },
      "outputs": [],
      "source": [
        "from itertools import chain, zip_longest\n",
        "\n",
        "def print_as_columns(*args, sep='\\t'):\n",
        "    \"\"\"\n",
        "    print arrays as columns\n",
        "    \"\"\"\n",
        "    args = list(map(lambda s: s.split('\\n'), args))\n",
        "    width = max(map(len, chain.from_iterable(args)))\n",
        "\n",
        "    fill = lambda s: '{:<{width}s}'.format(s, width=width)\n",
        "    fillvalue = fill('')\n",
        "\n",
        "    args = map(lambda e: map(fill, e), args)\n",
        "    args = map(sep.join, zip_longest(*args, fillvalue=fillvalue))\n",
        "    print(*args, sep='\\n')"
      ]
    },
    {
      "cell_type": "code",
      "execution_count": null,
      "metadata": {
        "id": "7TCCgRPREUNq"
      },
      "outputs": [],
      "source": [
        "np.random.seed(1398)\n",
        "\n",
        "c = np.random.permutation(np.arange(0, 12))\n",
        "i = c.shape[0] // 2\n",
        "\n",
        "a, b = c[:i], c[i:]\n",
        "a, b = a.reshape(3, 2), b.reshape(3, 2)"
      ]
    },
    {
      "cell_type": "markdown",
      "metadata": {
        "id": "XvBezv6GEUNq"
      },
      "source": [
        "Конкатенация массивов по вертикали."
      ]
    },
    {
      "cell_type": "code",
      "execution_count": null,
      "metadata": {
        "id": "HQz5ZdMuEUNq"
      },
      "outputs": [],
      "source": [
        "print_as_columns(repr(a), repr(b))\n",
        "np.vstack((a, b))   # same as np.concatenate((a, b), axis=0)"
      ]
    },
    {
      "cell_type": "markdown",
      "metadata": {
        "id": "Omb95TMREUNq"
      },
      "source": [
        "Конкатенация массивов по горизонтали."
      ]
    },
    {
      "cell_type": "code",
      "execution_count": null,
      "metadata": {
        "id": "m8qT1F0SEUNq"
      },
      "outputs": [],
      "source": [
        "print_as_columns(repr(a), repr(b))\n",
        "np.hstack((a, b))   # same as np.concatenate((a, b), axis=0)"
      ]
    },
    {
      "cell_type": "markdown",
      "metadata": {
        "id": "qZfe2nZBEUNq"
      },
      "source": [
        "### Сортировка"
      ]
    },
    {
      "cell_type": "code",
      "execution_count": null,
      "metadata": {
        "id": "6BvHEyQkEUNq"
      },
      "outputs": [],
      "source": [
        "np.random.seed(5555)\n",
        "\n",
        "a = np.random.randint(10, 20, size=(3, 7))\n",
        "a[1, 3] = 99\n",
        "\n",
        "a"
      ]
    },
    {
      "cell_type": "code",
      "execution_count": null,
      "metadata": {
        "id": "AEanGk7sEUNq"
      },
      "outputs": [],
      "source": [
        "b = a.copy()\n",
        "b.sort(axis=1)  # inplace\n",
        "b"
      ]
    },
    {
      "cell_type": "code",
      "execution_count": null,
      "metadata": {
        "id": "raEtEYoNEUNq"
      },
      "outputs": [],
      "source": [
        "np.sort(a, axis=1)   # new object"
      ]
    },
    {
      "cell_type": "markdown",
      "metadata": {
        "id": "1T3Ut8RIEUNq"
      },
      "source": [
        "И конечно же есть операция `argsort`."
      ]
    },
    {
      "cell_type": "code",
      "execution_count": null,
      "metadata": {
        "id": "ulzXVK2tEUNq"
      },
      "outputs": [],
      "source": [
        "a.argsort(axis=1)  # same as np.argsort(a, axis=1)"
      ]
    },
    {
      "cell_type": "code",
      "execution_count": null,
      "metadata": {
        "id": "qn_Ua6EyEUNr"
      },
      "outputs": [],
      "source": [
        "c = a.ravel() * 5"
      ]
    },
    {
      "cell_type": "code",
      "execution_count": null,
      "metadata": {
        "scrolled": true,
        "id": "6R_oFsFAEUNr"
      },
      "outputs": [],
      "source": [
        "np.argpartition(c, 10)"
      ]
    },
    {
      "cell_type": "markdown",
      "metadata": {
        "id": "-Emuqy5-EUNr"
      },
      "source": [
        "<font color='red'> Как работает `argpartition`?</font>"
      ]
    },
    {
      "cell_type": "markdown",
      "metadata": {
        "id": "J0uyjPkCEUNr"
      },
      "source": [
        "### Получение уникальных элементов"
      ]
    },
    {
      "cell_type": "code",
      "execution_count": null,
      "metadata": {
        "id": "dO2LpD0zEUNr"
      },
      "outputs": [],
      "source": [
        "np.unique(a)"
      ]
    },
    {
      "cell_type": "code",
      "execution_count": null,
      "metadata": {
        "id": "CnkRd_uoEUNr"
      },
      "outputs": [],
      "source": [
        "np.unique(a, return_counts=True)"
      ]
    },
    {
      "cell_type": "code",
      "execution_count": null,
      "metadata": {
        "id": "7nFfNtHREUNr"
      },
      "outputs": [],
      "source": [
        "np.bincount(a)"
      ]
    },
    {
      "cell_type": "code",
      "execution_count": null,
      "metadata": {
        "id": "q8yZw-LBEUNr"
      },
      "outputs": [],
      "source": [
        "np.bincount(a.ravel())"
      ]
    },
    {
      "cell_type": "markdown",
      "metadata": {
        "id": "rfrbfXMEEUNr"
      },
      "source": [
        "### Линейная алгебра\n",
        "\n",
        "https://numpy.org/doc/stable/reference/routines.linalg.html"
      ]
    },
    {
      "cell_type": "code",
      "execution_count": null,
      "metadata": {
        "id": "dBm0gZSUEUNr"
      },
      "outputs": [],
      "source": [
        "# нормы векторов\n",
        "np.linalg.norm(A, axis=1, ord=1) # np.abs + np.sum"
      ]
    },
    {
      "cell_type": "code",
      "execution_count": null,
      "metadata": {
        "id": "Q8mbDJWaEUNr"
      },
      "outputs": [],
      "source": [
        "# нормы векторов\n",
        "np.linalg.norm(A, axis=1, ord=2) # np.power / **2 + np.sum"
      ]
    },
    {
      "cell_type": "markdown",
      "metadata": {
        "id": "RD9OnIpREUNs"
      },
      "source": [
        "## Библиотека SciPy\n",
        "\n",
        "SсiPy — библиотека для сложных научных вычислений в Python, интегрированная с numpy.\n",
        "В частности, SciPy включает в себя:\n",
        "\n",
        "* операции линейной алгебры (scipy.linalg);\n",
        "* реализации методов оптимизации (scipy.optimize);\n",
        "* статистические критерии и сложные распределения (scipy.stats);\n",
        "* функции для численного интегрирования (scipy.integrate).\n",
        "\n",
        "**Важно:** некоторые из операций есть как в numpy, так и в scipy.\n",
        "\n",
        "**Важно:** scipy — более тяжеловесен чем numpy, т.к. использует внутри себя процедуры языка Fortran.\n",
        "\n",
        "Более подробный обзор библиотеки можно получить здесь:\n",
        "\n",
        "http://scipy-lectures.org/intro/scipy.html"
      ]
    },
    {
      "cell_type": "markdown",
      "metadata": {
        "id": "tkmxw8oaEUNs"
      },
      "source": [
        "### Поиск расстояний между векторами"
      ]
    },
    {
      "cell_type": "code",
      "execution_count": null,
      "metadata": {
        "id": "skcP5NLEEUNs"
      },
      "outputs": [],
      "source": [
        "from scipy.spatial.distance import cdist"
      ]
    },
    {
      "cell_type": "code",
      "execution_count": null,
      "metadata": {
        "id": "OnMgTkIEEUNs"
      },
      "outputs": [],
      "source": [
        "np.random.seed(63)\n",
        "\n",
        "a = np.random.choice(10, size=10, replace=False).reshape(-1, 2)\n",
        "b = np.random.choice(10, size=10, replace=False).reshape(-1, 2)"
      ]
    },
    {
      "cell_type": "code",
      "execution_count": null,
      "metadata": {
        "id": "auWYxVTsEUNs"
      },
      "outputs": [],
      "source": [
        "print_as_columns(repr(a), repr(b))"
      ]
    },
    {
      "cell_type": "code",
      "execution_count": null,
      "metadata": {
        "id": "NajY29SBEUNs"
      },
      "outputs": [],
      "source": [
        "cdist(a, b)"
      ]
    },
    {
      "cell_type": "code",
      "execution_count": null,
      "metadata": {
        "id": "0Of-0qvVEUNs"
      },
      "outputs": [],
      "source": [
        "cdist(a, b, metric='cityblock')"
      ]
    },
    {
      "cell_type": "markdown",
      "metadata": {
        "id": "cDQcUlGpEUNs"
      },
      "source": [
        "### SVD разложение"
      ]
    },
    {
      "cell_type": "code",
      "execution_count": null,
      "metadata": {
        "id": "OOHEZzygEUNs"
      },
      "outputs": [],
      "source": [
        "from scipy.linalg import svd  # eще есть np.linalg.svd"
      ]
    },
    {
      "cell_type": "code",
      "execution_count": null,
      "metadata": {
        "id": "AvWUZzFCEUNs"
      },
      "outputs": [],
      "source": [
        "A = np.array([[0, 1, 2], [3, 4, 5], [6, 7, 8]])"
      ]
    },
    {
      "cell_type": "code",
      "execution_count": null,
      "metadata": {
        "id": "EEblmjFQEUNs"
      },
      "outputs": [],
      "source": [
        "U, s, Vh = svd(A, full_matrices=True)"
      ]
    },
    {
      "cell_type": "code",
      "execution_count": null,
      "metadata": {
        "id": "kkpItb7rEUNu"
      },
      "outputs": [],
      "source": [
        "np.allclose(A, U @ np.diag(s) @ Vh)"
      ]
    },
    {
      "cell_type": "markdown",
      "metadata": {
        "id": "1Gau_3LBEUNu"
      },
      "source": [
        "### Интерполяция"
      ]
    },
    {
      "cell_type": "code",
      "execution_count": null,
      "metadata": {
        "id": "9xw3C1VfEUNu"
      },
      "outputs": [],
      "source": [
        "import matplotlib.pyplot as plt\n",
        "\n",
        "%matplotlib inline"
      ]
    },
    {
      "cell_type": "code",
      "execution_count": null,
      "metadata": {
        "id": "OJRJwMDYEUNu"
      },
      "outputs": [],
      "source": [
        "from scipy.optimize import curve_fit"
      ]
    },
    {
      "cell_type": "code",
      "execution_count": null,
      "metadata": {
        "id": "uUysnGJkEUNu"
      },
      "outputs": [],
      "source": [
        "np.random.seed(56)\n",
        "\n",
        "x_data = np.linspace(-5, 5, num=50)\n",
        "y_data = 2.9 * np.sin(1.5 * x_data) + np.random.normal(size=50)"
      ]
    },
    {
      "cell_type": "code",
      "execution_count": null,
      "metadata": {
        "id": "4mqK9nAMEUNu"
      },
      "outputs": [],
      "source": [
        "plt.plot(x_data, y_data, 'o')"
      ]
    },
    {
      "cell_type": "code",
      "execution_count": null,
      "metadata": {
        "id": "WVKwDzpSEUNu"
      },
      "outputs": [],
      "source": [
        "def fitting_function(x, a, b):\n",
        "    return a * np.sin(b * x)"
      ]
    },
    {
      "cell_type": "code",
      "execution_count": null,
      "metadata": {
        "id": "pG8F_JtzEUNu"
      },
      "outputs": [],
      "source": [
        "params, params_covariance = curve_fit(fitting_function, x_data, y_data)"
      ]
    },
    {
      "cell_type": "code",
      "execution_count": null,
      "metadata": {
        "id": "cZxhIj7QEUNu"
      },
      "outputs": [],
      "source": [
        "params"
      ]
    },
    {
      "cell_type": "code",
      "execution_count": null,
      "metadata": {
        "id": "YX7FundHEUNv"
      },
      "outputs": [],
      "source": [
        "curve_y_data = [fitting_function(x, *params) for x in x_data]"
      ]
    },
    {
      "cell_type": "code",
      "execution_count": null,
      "metadata": {
        "id": "dJraAGQOEUNv"
      },
      "outputs": [],
      "source": [
        "plt.plot(x_data, y_data, 'o')\n",
        "plt.plot(x_data, curve_y_data)"
      ]
    },
    {
      "cell_type": "markdown",
      "metadata": {
        "id": "pPaAE00wEUNv"
      },
      "source": [
        "### Minimize"
      ]
    },
    {
      "cell_type": "code",
      "execution_count": null,
      "metadata": {
        "id": "oMexoDQKEUNv"
      },
      "outputs": [],
      "source": [
        "from scipy.optimize import minimize, minimize_scalar"
      ]
    },
    {
      "cell_type": "code",
      "execution_count": null,
      "metadata": {
        "id": "DR9FUOK0EUNv"
      },
      "outputs": [],
      "source": [
        "# Можем минимизровать\n",
        "def f(x):\n",
        "    return 3 * x ** 4 - 2 * x + 1\n",
        "\n",
        "res = minimize_scalar(f)\n",
        "\n",
        "plt.plot(np.arange(-2, 2, 0.05), f(np.arange(-2, 2, 0.05)))\n",
        "plt.scatter(res.x, res.fun, marker=\"*\", s = 100, c = 'r')\n",
        "\n",
        "print(res)"
      ]
    },
    {
      "cell_type": "code",
      "execution_count": null,
      "metadata": {
        "id": "pjPgpdfMEUNv"
      },
      "outputs": [],
      "source": [
        "# Можем минимизровать с границами\n",
        "\n",
        "res = minimize_scalar(f, method='bounded', bounds=(-1.5, -1))\n",
        "\n",
        "fig, ax = plt.subplots()\n",
        "plt.plot(np.arange(-2, 2, 0.05), f(np.arange(-2, 2, 0.05)))\n",
        "ax.axvspan(-1.5, -1, 0, 50, alpha=0.5, color='red')\n",
        "plt.scatter(res.x, res.fun, marker=\"*\", s = 100, c = 'r')\n",
        "\n",
        "print(res)"
      ]
    },
    {
      "cell_type": "code",
      "execution_count": null,
      "metadata": {
        "id": "hWniUMELEUNv"
      },
      "outputs": [],
      "source": [
        "# Можем минимизирвовать функции от многих переменных\n",
        "\n",
        "def g(arguments):\n",
        "    x, y, z = arguments[0], arguments[1], arguments[2]\n",
        "    return 3 * x ** 4 * y * z ** 2 - z * x + x\n",
        "\n",
        "res = minimize(g, [1, 3, 0])\n",
        "res"
      ]
    },
    {
      "cell_type": "markdown",
      "metadata": {
        "id": "WqLm84wFEUNv"
      },
      "source": [
        "### Оптимизация с условиями\n",
        "\n",
        "https://habr.com/ru/company/ods/blog/448054/\n",
        "\n",
        "### Разреженные матрицы\n",
        "\n",
        "https://docs.scipy.org/doc/scipy/reference/sparse.html\n",
        "\n",
        "https://matteding.github.io/2019/04/25/sparse-matrices/\n",
        "\n",
        "### Must-reads из документации NumPy\n",
        "\n",
        "0. Indexing in NumPy: https://numpy.org/doc/stable/user/basics.indexing.html\n",
        "1. Broadcasting: https://numpy.org/doc/stable/user/basics.broadcasting.html"
      ]
    },
    {
      "cell_type": "markdown",
      "metadata": {
        "id": "tg7LwRkoEUNv"
      },
      "source": [
        "\n",
        "## Что почитать еще?\n",
        "\n",
        "1. Jake VanderPlas. Python Data Science Handbook. (Вандер Плас Дж. Python для сложных задач.)\n",
        "[англ.](https://jakevdp.github.io/PythonDataScienceHandbook/)\n",
        "2. Wes McKinney. Python for Data Analysis (Маккини Уэс. Python и анализ данных)"
      ]
    }
  ],
  "metadata": {
    "kernelspec": {
      "display_name": "AM_ML_env",
      "language": "python",
      "name": "am_ml_env"
    },
    "language_info": {
      "codemirror_mode": {
        "name": "ipython",
        "version": 3
      },
      "file_extension": ".py",
      "mimetype": "text/x-python",
      "name": "python",
      "nbconvert_exporter": "python",
      "pygments_lexer": "ipython3",
      "version": "3.9.18"
    },
    "colab": {
      "provenance": []
    }
  },
  "nbformat": 4,
  "nbformat_minor": 0
}